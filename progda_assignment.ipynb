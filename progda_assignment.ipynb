{
 "cells": [
  {
   "cell_type": "markdown",
   "id": "7f572981-c01d-4f52-9d3e-d01399c1e249",
   "metadata": {},
   "source": [
    "# The numpy.random Package in Python\n",
    "**Student Name:** Gillian Kane-McLoughlin | \n",
    "**Student Number:** G00398258 | \n",
    "**Due Date:** 22nd November 2021\n",
    "***"
   ]
  },
  {
   "cell_type": "markdown",
   "id": "055e6aed-fe05-45bf-9cfc-b8c3c42d649f",
   "metadata": {},
   "source": [
    "#### Overview\n",
    "This notebook will contain my submission for the Programming for Data Analysis practical assignment for winter 2021"
   ]
  },
  {
   "cell_type": "code",
   "execution_count": null,
   "id": "718abd71-4346-48ae-879e-ea5c1baa6bd4",
   "metadata": {},
   "outputs": [],
   "source": []
  },
  {
   "cell_type": "code",
   "execution_count": null,
   "id": "dc426f93-7e17-406c-988a-4330516d5aff",
   "metadata": {},
   "outputs": [],
   "source": []
  },
  {
   "cell_type": "code",
   "execution_count": null,
   "id": "0530a983-0d56-44c8-b541-a66fd5c4a9f3",
   "metadata": {},
   "outputs": [],
   "source": []
  },
  {
   "cell_type": "code",
   "execution_count": null,
   "id": "822004e5-08c5-47b1-ae19-413cf99f98ca",
   "metadata": {},
   "outputs": [],
   "source": []
  },
  {
   "cell_type": "code",
   "execution_count": null,
   "id": "4bba0f65-d613-4e64-bda6-8210f6723b62",
   "metadata": {},
   "outputs": [],
   "source": []
  },
  {
   "cell_type": "code",
   "execution_count": null,
   "id": "c82a4afb-b8c1-4745-80ea-be72629fe008",
   "metadata": {},
   "outputs": [],
   "source": []
  },
  {
   "cell_type": "code",
   "execution_count": null,
   "id": "a40d1351-2be6-4e7c-9e8f-38858e3262b9",
   "metadata": {},
   "outputs": [],
   "source": []
  },
  {
   "cell_type": "code",
   "execution_count": null,
   "id": "303b2763-59ce-4519-a5dd-8ed173c519c0",
   "metadata": {},
   "outputs": [],
   "source": []
  },
  {
   "cell_type": "code",
   "execution_count": null,
   "id": "53fa9a1f-9b55-4ee7-a4d1-1187f4d779f5",
   "metadata": {},
   "outputs": [],
   "source": []
  },
  {
   "cell_type": "code",
   "execution_count": null,
   "id": "a0afda75-4b43-462f-aa2c-07475f83c1a0",
   "metadata": {},
   "outputs": [],
   "source": []
  },
  {
   "cell_type": "markdown",
   "id": "a229ff26-c58f-46d1-9e68-61cc31673215",
   "metadata": {},
   "source": [
    "#### References\n",
    "[] https://www.javatpoint.com/numpy-random  \n",
    "[] https://linuxhint.com/use-python-numpy-random-function/  \n",
    "[] https://numpy.org/  \n",
    "[] https://pythonguides.com/python-numpy-random/  \n",
    "[] https://towardsdatascience.com/random-seed-numpy-786cf7876a5f  \n",
    "[] https://www.w3schools.com/python/numpy/numpy_random.asp  \n",
    "[] https://web.physics.utah.edu/~detar/lessons/python/random/node2.html  "
   ]
  },
  {
   "cell_type": "code",
   "execution_count": null,
   "id": "858188c2-d2d0-4d92-8b63-ad8a2a9f8ef7",
   "metadata": {},
   "outputs": [],
   "source": []
  }
 ],
 "metadata": {
  "kernelspec": {
   "display_name": "Python 3",
   "language": "python",
   "name": "python3"
  },
  "language_info": {
   "codemirror_mode": {
    "name": "ipython",
    "version": 3
   },
   "file_extension": ".py",
   "mimetype": "text/x-python",
   "name": "python",
   "nbconvert_exporter": "python",
   "pygments_lexer": "ipython3",
   "version": "3.8.8"
  }
 },
 "nbformat": 4,
 "nbformat_minor": 5
}
