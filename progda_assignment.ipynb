{
 "cells": [
  {
   "cell_type": "markdown",
   "id": "7f572981-c01d-4f52-9d3e-d01399c1e249",
   "metadata": {},
   "source": [
    "***\n",
    "# The numpy.random Package in Python\n",
    "**Student Name:** Gillian Kane-McLoughlin | \n",
    "**Student Number:** G00398258 | \n",
    "**Due Date:** 22nd November 2021"
   ]
  },
  {
   "cell_type": "markdown",
   "id": "205b58fb-6a8a-4f0d-b65b-0b42f201866b",
   "metadata": {},
   "source": [
    "***"
   ]
  },
  {
   "cell_type": "markdown",
   "id": "055e6aed-fe05-45bf-9cfc-b8c3c42d649f",
   "metadata": {},
   "source": [
    "#### Overview\n",
    "This notebook will contain my submission for the Programming for Data Analysis practical assignment for Winter 2021"
   ]
  },
  {
   "cell_type": "markdown",
   "id": "43311369-013e-41c3-82f0-ac09661cae2c",
   "metadata": {},
   "source": [
    "<br>"
   ]
  },
  {
   "cell_type": "markdown",
   "id": "99549da1-c85c-4ebb-9407-ec46be2f23e8",
   "metadata": {},
   "source": [
    "***"
   ]
  },
  {
   "cell_type": "markdown",
   "id": "98a94c22-ad6b-4d6a-b9b5-65f422a223b5",
   "metadata": {},
   "source": [
    "#### Required Modules"
   ]
  },
  {
   "cell_type": "code",
   "execution_count": 1,
   "id": "0530a983-0d56-44c8-b541-a66fd5c4a9f3",
   "metadata": {},
   "outputs": [],
   "source": [
    "import numpy as np"
   ]
  },
  {
   "cell_type": "code",
   "execution_count": null,
   "id": "822004e5-08c5-47b1-ae19-413cf99f98ca",
   "metadata": {},
   "outputs": [],
   "source": []
  },
  {
   "cell_type": "markdown",
   "id": "bf9664e7-d8d5-4a58-9e3d-51ed5cc7fb06",
   "metadata": {},
   "source": [
    "***"
   ]
  },
  {
   "cell_type": "markdown",
   "id": "f2b86953-68ed-482a-ab77-a92e2fec57aa",
   "metadata": {},
   "source": [
    "#### Task 1: Explain the overall purpose of the package"
   ]
  },
  {
   "cell_type": "markdown",
   "id": "0d966e44-e4d2-4c62-a825-18fc267365b9",
   "metadata": {},
   "source": [
    "According to the official documentation, NumPy or numerical Python is the fundamental package for scientific computing in Python [5]. This Python library not only provides a multidimensional array object, but also various derived objects including matrices and masked arrays, as well as routines for performing fast operations on arrays such as sorting, basic linear algebra and statistical operations, random simulation, etc. [5]. The NumPy Python library provides us with what Real Python describes as a simple yet powerful data structure - the n-dimensional array [7]. "
   ]
  },
  {
   "cell_type": "markdown",
   "id": "24b7f46b-472f-4e01-9ba2-8a092af8bb8b",
   "metadata": {},
   "source": [
    "Within the overall NumPy package, the random module, accessed using the basic function numpy.random(), implements pseudo-random number generators for various distributions, including uniform, normal, and negative exponential [2]. There are two components to generating random numbers: the BitGenerator, which manages state and provides functions to produce random doubles and random unsigned 32- and 64-bit values, and the random generator, which takes the bit generator-provided stream and transforms them into more useful distributions [7]. The Generator, a user-facing object, accepts a bit generator instance as an argument [7]. The default generator is currently PCG64 (Permuted Congruential Generator) [6], but an older generator MT19937 (Mersenne Twister) can also be accessed, although this is not recommended [7] "
   ]
  },
  {
   "cell_type": "code",
   "execution_count": null,
   "id": "303b2763-59ce-4519-a5dd-8ed173c519c0",
   "metadata": {},
   "outputs": [],
   "source": []
  },
  {
   "cell_type": "markdown",
   "id": "0c556759-1c92-46a1-afd0-3b07399dd7c4",
   "metadata": {},
   "source": [
    "***"
   ]
  },
  {
   "cell_type": "markdown",
   "id": "ed627ed5-53ba-4f15-86d1-ace0bdd034af",
   "metadata": {},
   "source": [
    "#### Task 2: Explain the use of the “Simple random data” and “Permutations” functions"
   ]
  },
  {
   "cell_type": "markdown",
   "id": "bdde7f6c-647c-483f-bbcc-c6469ec70414",
   "metadata": {},
   "source": [
    "<br>"
   ]
  },
  {
   "cell_type": "markdown",
   "id": "53bf22ec-28cb-4cee-b876-d6d71f650d43",
   "metadata": {},
   "source": [
    "#### **1) Simple Random Data**\n",
    "***"
   ]
  },
  {
   "cell_type": "markdown",
   "id": "e3de0020-8aa2-4e5a-bea7-286aee8f32ef",
   "metadata": {},
   "source": [
    "There are ten different simple random data functions available in the numpy.random package for generating pseudo random numbers, some of which are aliases for each other and others that are deprecated:"
   ]
  },
  {
   "cell_type": "markdown",
   "id": "aa649645-a267-497c-a548-6500b30067df",
   "metadata": {},
   "source": [
    "- rand(d0, d1, ..., dn)  \n",
    "- randn(d0, d1, ..., dn)  \n",
    "- randint(low[, high, size])\n",
    "- random_integers(low[, high, size])\n",
    "- random_sample([size])\n",
    "- random([size])\n",
    "- ranf([size])\n",
    "- sample([size])\n",
    "- choice(a[, size, replace, p])\n",
    "- bytes(length)"
   ]
  },
  {
   "cell_type": "markdown",
   "id": "56b74971-c13b-4f92-af18-3e2e096fbfa9",
   "metadata": {},
   "source": [
    "Lets take a look at each of these functions in turn, and see what the syntax looks like, the paramaters and outputs for each as per numpy.org, and some practical examples of the code in use."
   ]
  },
  {
   "cell_type": "markdown",
   "id": "ca974c99-2480-4b84-b6be-b0ace51b9dd5",
   "metadata": {},
   "source": [
    "<br>"
   ]
  },
  {
   "cell_type": "markdown",
   "id": "16872ebe-92c5-47c6-8097-dddafa63de1a",
   "metadata": {},
   "source": [
    "#### **numpy.random.rand**\n",
    "***"
   ]
  },
  {
   "cell_type": "markdown",
   "id": "b8c0a476-fd69-4d98-bbf3-ab027742a5a1",
   "metadata": {},
   "source": [
    "`random.rand(d0, d1, ..., dn)`"
   ]
  },
  {
   "cell_type": "markdown",
   "id": "cf724786-43dc-44ab-92ba-c1443236c054",
   "metadata": {},
   "source": [
    "As per the official documentation, this function returns values in a given shape by creating an array of the given shape and populating it with random samples from a uniform distribution (values between 0 & 1)."
   ]
  },
  {
   "cell_type": "markdown",
   "id": "e7ff500a-446d-485c-a021-f3eec999f1b9",
   "metadata": {},
   "source": [
    "**_Parameters:_** d0, d1, …, dnint, optional  \n",
    "The dimensions of the returned array, must be non-negative. If no argument is given a single Python float is returned.\n",
    "\n",
    "**_Returns:_** outndarray, shape (d0, d1, ..., dn)  \n",
    "Random values."
   ]
  },
  {
   "cell_type": "code",
   "execution_count": 2,
   "id": "b5a1c278-2425-4cdb-b609-c869ac80b8d3",
   "metadata": {},
   "outputs": [
    {
     "data": {
      "text/plain": [
       "array([[0.17406634, 0.48754589, 0.2780417 ],\n",
       "       [0.12133685, 0.54139527, 0.4635558 ],\n",
       "       [0.88938101, 0.48112217, 0.54489788],\n",
       "       [0.67603859, 0.67186943, 0.7073633 ],\n",
       "       [0.60834465, 0.2125483 , 0.38887439],\n",
       "       [0.64004342, 0.47093976, 0.940239  ],\n",
       "       [0.08181834, 0.24884682, 0.90294487]])"
      ]
     },
     "execution_count": 2,
     "metadata": {},
     "output_type": "execute_result"
    }
   ],
   "source": [
    "# Examples of numpy.random.rand - generate a 7 x 3 array of random numbers\n",
    "np.random.rand(7,3)"
   ]
  },
  {
   "cell_type": "code",
   "execution_count": 3,
   "id": "c9f80fe5-642d-40d2-a343-8106338f9b13",
   "metadata": {},
   "outputs": [
    {
     "data": {
      "text/plain": [
       "0.27692421990879257"
      ]
     },
     "execution_count": 3,
     "metadata": {},
     "output_type": "execute_result"
    }
   ],
   "source": [
    "# Generate a random float\n",
    "np.random.rand()"
   ]
  },
  {
   "cell_type": "markdown",
   "id": "09f26e7f-e666-463f-9a1e-d0a0c56a4028",
   "metadata": {},
   "source": [
    "_References_: [3], [6]"
   ]
  },
  {
   "cell_type": "markdown",
   "id": "a7b808d9-042a-4f01-a842-93ddda281c56",
   "metadata": {},
   "source": [
    "<br>"
   ]
  },
  {
   "cell_type": "markdown",
   "id": "bef949cf-8fa5-4fab-a2a1-e3834ed3796d",
   "metadata": {},
   "source": [
    "#### **numpy.random.randn**\n",
    "***"
   ]
  },
  {
   "cell_type": "markdown",
   "id": "a75d087e-f3a9-404f-aa78-a71da986751d",
   "metadata": {},
   "source": [
    "`random.randn(d0, d1, ..., dn)`"
   ]
  },
  {
   "cell_type": "markdown",
   "id": "4abd357d-05c9-4027-a557-cf38d92f1307",
   "metadata": {},
   "source": [
    "This function returns a sample or samples from the standard normal distribution."
   ]
  },
  {
   "cell_type": "markdown",
   "id": "c5aee229-1e2c-4d80-b982-02607f96a615",
   "metadata": {},
   "source": [
    "The randn function will generate an array with the shape (d0, d1, ..., dn), filled with random floats sampled from a univariate “normal” (Gaussian) distribution of mean 0 and variance 1 if positive int_like arguments are inputted, and will return a single float randomly sampled from the distribution if no argument is provided."
   ]
  },
  {
   "cell_type": "markdown",
   "id": "c1f83940-a114-409f-90c9-97165d0e15db",
   "metadata": {},
   "source": [
    "**_Parameters:_** d0, d1, …, dnint, optional  \n",
    "The dimensions of the returned array must be non-negative. If no argument is given a single Python float is returned.\n",
    "\n",
    "**_Returns:_** Z: ndarray or float  \n",
    "A (d0, d1, ..., dn)-shaped array of floating-point samples from the standard normal distribution, or a single such float if no parameters were supplied."
   ]
  },
  {
   "cell_type": "code",
   "execution_count": 4,
   "id": "94235eba-e8fa-4213-aa59-48c96d702dec",
   "metadata": {},
   "outputs": [
    {
     "data": {
      "text/plain": [
       "1.0359016371375076"
      ]
     },
     "execution_count": 4,
     "metadata": {},
     "output_type": "execute_result"
    }
   ],
   "source": [
    "# Examples of numpy.random.randn\n",
    "np.random.randn()"
   ]
  },
  {
   "cell_type": "code",
   "execution_count": 5,
   "id": "aaf7cf35-7e66-44f3-8398-0433ea4c066f",
   "metadata": {},
   "outputs": [
    {
     "data": {
      "text/plain": [
       "array([-0.54214352,  0.17707411, -0.40856656])"
      ]
     },
     "execution_count": 5,
     "metadata": {},
     "output_type": "execute_result"
    }
   ],
   "source": [
    "np.random.randn(3)"
   ]
  },
  {
   "cell_type": "code",
   "execution_count": 6,
   "id": "96d411a5-1013-41dd-8b6b-3178a76cf663",
   "metadata": {},
   "outputs": [
    {
     "data": {
      "text/plain": [
       "array([[ 2.91586048, -0.23170119,  5.53368659,  1.71330058],\n",
       "       [ 2.24552367,  6.23990431,  4.50154762,  3.73186739]])"
      ]
     },
     "execution_count": 6,
     "metadata": {},
     "output_type": "execute_result"
    }
   ],
   "source": [
    "# Two-by-four array of samples from N(3, 6.25):\n",
    "3 + 2.5 * np.random.randn(2, 4)"
   ]
  },
  {
   "cell_type": "markdown",
   "id": "1ecbdd8e-ec5c-4ea7-85b7-8eddf44cb9a1",
   "metadata": {},
   "source": [
    "_References_: [3], [6]"
   ]
  },
  {
   "cell_type": "markdown",
   "id": "428583f4-05d7-48e6-9f2d-c93d9238ed73",
   "metadata": {},
   "source": [
    "<br>"
   ]
  },
  {
   "cell_type": "markdown",
   "id": "dcf81213-dbf0-430e-958a-6127c41b04b6",
   "metadata": {},
   "source": [
    "#### **numpy.random.randint**\n",
    "***"
   ]
  },
  {
   "cell_type": "markdown",
   "id": "07c4ac0e-f6ec-47db-9b93-dfb464cf7878",
   "metadata": {},
   "source": [
    "`random.randint(low, high=None, size=None, dtype=int)`"
   ]
  },
  {
   "cell_type": "markdown",
   "id": "2c424391-c35a-4a01-8f46-cf372f1f6505",
   "metadata": {},
   "source": [
    "This function returns random integers from low (inclusive) to high (exclusive) from the discrete uniform distribution of the specified dtype in the “half-open” interval [low, high)."
   ]
  },
  {
   "cell_type": "markdown",
   "id": "79ce367b-b0da-4708-91b6-92073e9034d7",
   "metadata": {},
   "source": [
    "The documenatation states that if high is None (which is the default), then the results are from [0, low)."
   ]
  },
  {
   "cell_type": "markdown",
   "id": "7c4bd60b-2a8b-447e-8a32-fd3c9640eeb5",
   "metadata": {},
   "source": [
    "**_Parameters:_**  lowint or array-like of ints  \n",
    "Lowest (signed) integers to be drawn from the distribution (unless high=None, in which case this parameter is one above the highest such integer).\n",
    "\n",
    "**_Optional:_** highint or array-like of ints  \n",
    "If provided, one above the largest (signed) integer to be drawn from the distribution (see above for behavior if high=None). If array-like, must contain integer values\n",
    "\n",
    "**_Optional:_** sizeint or tuple of ints  \n",
    "Output shape. If the given shape is, e.g., (m, n, k), then m * n * k samples are drawn. Default is None, in which case a single value is returned.\n",
    "\n",
    "**_Optional:_** dtypedtype    \n",
    "Desired dtype of the result. Byteorder must be native. The default value is int.\n",
    "\n",
    "**_Returns:_** outint or ndarray of ints    \n",
    "size-shaped array of random integers from the appropriate distribution, or a single such random int if size not provided."
   ]
  },
  {
   "cell_type": "code",
   "execution_count": 7,
   "id": "cf61cb7e-097d-4da0-94a4-e14f5bc6264e",
   "metadata": {},
   "outputs": [
    {
     "data": {
      "text/plain": [
       "array([1, 1, 1, 0, 0])"
      ]
     },
     "execution_count": 7,
     "metadata": {},
     "output_type": "execute_result"
    }
   ],
   "source": [
    "# Examples of numpy.random.randint\n",
    "np.random.randint(2, size=5)"
   ]
  },
  {
   "cell_type": "code",
   "execution_count": 8,
   "id": "db0194bd-e01e-4930-b7c3-516861cd4b4b",
   "metadata": {},
   "outputs": [
    {
     "data": {
      "text/plain": [
       "array([3, 5, 5])"
      ]
     },
     "execution_count": 8,
     "metadata": {},
     "output_type": "execute_result"
    }
   ],
   "source": [
    "# Generate a 1 x 3 array with 3 different upper bounds\n",
    "np.random.randint(1, [5, 7, 9])"
   ]
  },
  {
   "cell_type": "code",
   "execution_count": 9,
   "id": "0221375b-d1f6-41da-86f9-5b218fc27554",
   "metadata": {},
   "outputs": [
    {
     "data": {
      "text/plain": [
       "array([[5, 0, 0, 6, 1, 1],\n",
       "       [2, 5, 0, 3, 0, 3],\n",
       "       [4, 2, 1, 0, 3, 5]])"
      ]
     },
     "execution_count": 9,
     "metadata": {},
     "output_type": "execute_result"
    }
   ],
   "source": [
    "# Generate a 3 x 6 array of ints between 0 and 6, inclusive:\n",
    "np.random.randint(7, size=(3, 6))"
   ]
  },
  {
   "cell_type": "markdown",
   "id": "8e2e2e4b-ca6b-4f6c-9c81-a82a378920dd",
   "metadata": {},
   "source": [
    "_References_: [3], [6]"
   ]
  },
  {
   "cell_type": "markdown",
   "id": "05204d2a-26bd-468f-aa06-170cb7c4706e",
   "metadata": {},
   "source": [
    "<br>"
   ]
  },
  {
   "cell_type": "markdown",
   "id": "457203e8-df24-434f-8be6-ac486c12df8e",
   "metadata": {},
   "source": [
    "#### **numpy.random.random_integers**\n",
    "***"
   ]
  },
  {
   "cell_type": "markdown",
   "id": "b86a3cb6-1dc0-49d6-93c4-6a0e9413827e",
   "metadata": {},
   "source": [
    "`random.random_integers(low, high=None, size=None)`"
   ]
  },
  {
   "cell_type": "markdown",
   "id": "b4aeefeb-96d3-4e8c-a129-1f5fd8a813ec",
   "metadata": {},
   "source": [
    "This function returns random integers of type np.int_ between the low and high parameters provided, inclusive, from the discrete uniform distribution in the closed interval [low, high]. \n",
    "\n",
    "If high is None (the default), then the results outputted are from [1, low]. The np.int_ type translates to the C long integer type and its precision is platform dependent.\n",
    "\n",
    "As per the official documentation, the numpy.random.random_integers function has been deprecated. Users are advised to use the randint function instead (see heading above)."
   ]
  },
  {
   "cell_type": "markdown",
   "id": "00bea3d3-a55c-4ba7-a050-309f3aeaacbe",
   "metadata": {},
   "source": [
    "**_Parameters:_** lowint  \n",
    "Lowest (signed) integer to be drawn from the distribution (unless high=None, in which case this parameter is the highest such integer).\n",
    "\n",
    "**_Optional:_** highint  \n",
    "If provided, the largest (signed) integer to be drawn from the distribution (see above for behavior if high=None).\n",
    "\n",
    "**_Optional:_** sizeint or tuple of ints  \n",
    "Output shape. If the given shape is, e.g., (m, n, k), then m * n * k samples are drawn. Default is None, in which case a single value is returned.\n",
    "\n",
    "**_Returns:_** outint or ndarray of ints  \n",
    "size-shaped array of random integers from the appropriate distribution, or a single such random int if size not provided."
   ]
  },
  {
   "cell_type": "markdown",
   "id": "b4db3bea-924e-4b15-914d-56f51805b41f",
   "metadata": {},
   "source": [
    "_Note: I received a warning message when testing out this function as it is deprecated. Please see the message below and example of the same function using randint_"
   ]
  },
  {
   "cell_type": "code",
   "execution_count": 10,
   "id": "f32c1a73-0390-4c90-8337-3ac27bf665f4",
   "metadata": {},
   "outputs": [
    {
     "name": "stderr",
     "output_type": "stream",
     "text": [
      "<ipython-input-10-071506707e34>:2: DeprecationWarning: This function is deprecated. Please call randint(1, 6 + 1) instead\n",
      "  np.random.random_integers(6)\n"
     ]
    },
    {
     "data": {
      "text/plain": [
       "6"
      ]
     },
     "execution_count": 10,
     "metadata": {},
     "output_type": "execute_result"
    }
   ],
   "source": [
    "# Examples of numpy.random.random_integers\n",
    "np.random.random_integers(6)"
   ]
  },
  {
   "cell_type": "code",
   "execution_count": 11,
   "id": "eb6a45bc-c891-45aa-807c-6d341a89bab7",
   "metadata": {},
   "outputs": [
    {
     "data": {
      "text/plain": [
       "5"
      ]
     },
     "execution_count": 11,
     "metadata": {},
     "output_type": "execute_result"
    }
   ],
   "source": [
    "np.random.randint(1,6+1)"
   ]
  },
  {
   "cell_type": "markdown",
   "id": "cf9f665d-4532-4a03-a83a-352fc42dfb7e",
   "metadata": {},
   "source": [
    "_References_: [3], [6]"
   ]
  },
  {
   "cell_type": "markdown",
   "id": "a24f3db4-1ee8-4d73-9f12-a11cc5cb326a",
   "metadata": {},
   "source": [
    "<br>"
   ]
  },
  {
   "cell_type": "markdown",
   "id": "d3dde096-1739-4ba5-8298-da587c1a387a",
   "metadata": {},
   "source": [
    "#### **numpy.random.random_sample, numpy.random.random, numpy.random.ranf & numpy.random.sample**\n",
    "***"
   ]
  },
  {
   "cell_type": "markdown",
   "id": "80d37c88-c292-4aa3-9f86-4192ab9d4dcf",
   "metadata": {},
   "source": [
    "`random.random_sample(size=None) | random.random(size=None) | random.ranf() | numpy.random.sample(size=None)`"
   ]
  },
  {
   "cell_type": "markdown",
   "id": "7c11f279-9f3d-4470-b032-f56589ee9cde",
   "metadata": {},
   "source": [
    "These functions return random floats in the half-open interval (meaning from 0 to 1, where 1 is excluded)."
   ]
  },
  {
   "cell_type": "markdown",
   "id": "10913f77-3d1b-4581-a9cd-18143b68a4f4",
   "metadata": {},
   "source": [
    "As per the official documentation, **numpy.random.random**, **numpy.random.ranf** and **random.random.sample** are aliases for the **random.random_sample** function, whose results are taken from the continuous uniform distribution over the stated interval, based on the following formula:"
   ]
  },
  {
   "cell_type": "markdown",
   "id": "b84f7368-9f93-48e8-bd3f-b60b0519c0b5",
   "metadata": {},
   "source": [
    "A possible use case for this function would be for lotteries or raffles, where a winner or winners needs to be drawn from a list of entries."
   ]
  },
  {
   "cell_type": "markdown",
   "id": "d7361a0c-1f52-45cd-a422-fc1471e65956",
   "metadata": {
    "tags": []
   },
   "source": [
    "`(b - a) * random_sample() + a`"
   ]
  },
  {
   "cell_type": "markdown",
   "id": "d4c8e2dd-88d2-4748-a70a-11193db6fe0c",
   "metadata": {},
   "source": [
    "**_Parameters:_** sizeint or tuple of ints, optional  \n",
    "Output shape. If the given shape is, e.g., (m, n, k), then m * n * k samples are drawn. Default is None, in which case a single value is returned.\n",
    "\n",
    "**_Returns:_** outfloat or ndarray of floats  \n",
    "Array of random floats of shape size (unless size=None, in which case a single float is returned)."
   ]
  },
  {
   "cell_type": "code",
   "execution_count": 12,
   "id": "3c4b6e6f-86b9-4a77-9b8b-593d80a7de6f",
   "metadata": {},
   "outputs": [
    {
     "data": {
      "text/plain": [
       "0.07604315119662941"
      ]
     },
     "execution_count": 12,
     "metadata": {},
     "output_type": "execute_result"
    }
   ],
   "source": [
    "# Examples 0f numpy.random.random_sample\n",
    "np.random.random_sample()"
   ]
  },
  {
   "cell_type": "code",
   "execution_count": 13,
   "id": "86dc96d4-13e0-4c61-a79c-95228f663a55",
   "metadata": {},
   "outputs": [
    {
     "data": {
      "text/plain": [
       "array([[-3.25007673, -2.07672609],\n",
       "       [-2.80623771, -4.1746448 ],\n",
       "       [-1.87441992, -3.18530116]])"
      ]
     },
     "execution_count": 13,
     "metadata": {},
     "output_type": "execute_result"
    }
   ],
   "source": [
    "# Generate a 3 x 2 array of random numbers from [-5, 0)\n",
    "5 * np.random.random_sample((3, 2)) - 5"
   ]
  },
  {
   "cell_type": "markdown",
   "id": "94bb1593-8b5a-4fc5-b757-271a9426e5e7",
   "metadata": {},
   "source": [
    "_References_: [3], [6], [13]"
   ]
  },
  {
   "cell_type": "markdown",
   "id": "b89feeb8-40d8-4cce-bd41-dc78cd0d0015",
   "metadata": {},
   "source": [
    "<br>"
   ]
  },
  {
   "cell_type": "markdown",
   "id": "2789b85d-dda8-420f-85d9-584d709fc189",
   "metadata": {},
   "source": [
    "#### **numpy.random.choice**\n",
    "***"
   ]
  },
  {
   "cell_type": "markdown",
   "id": "bd46fc95-af39-4b47-b04f-ffc2574fbc3b",
   "metadata": {},
   "source": [
    "`random.choice(a, size=None, replace=True, p=None)`"
   ]
  },
  {
   "cell_type": "markdown",
   "id": "1dbfb446-683f-4ef2-ac12-f7956149729b",
   "metadata": {},
   "source": [
    "This function generates a random sample from a given 1-D array. It takes an array as a parameter and randomly returns one of the values in that array, making it another option for use cases such as lottery or raffle draws."
   ]
  },
  {
   "cell_type": "markdown",
   "id": "fabec072-5076-46ba-9107-690380529f1a",
   "metadata": {},
   "source": [
    "**_Parameters:_** a: 1-D array-like or int  \n",
    "If an ndarray, a random sample is generated from its elements. If an int, the random sample is generated as if it were np.arange(a)\n",
    "\n",
    "**_Optional:_** sizeint or tuple of ints  \n",
    "Output shape. If the given shape is, e.g., (m, n, k), then m * n * k samples are drawn. Default is None, in which case a single value is returned.\n",
    "\n",
    "**_Optional:_** replaceboolean  \n",
    "Whether the sample is with or without replacement. Default is True, meaning that a value of a can be selected multiple times.\n",
    "\n",
    "**_Optional:_** p1-D array-like  \n",
    "The probabilities associated with each entry in a. If not given, the sample assumes a uniform distribution over all entries in a.\n",
    "\n",
    "**_Returns:_** samples: single item or ndarray\n",
    "The generated random samples\n",
    "\n",
    "**_Raises:_** ValueError  \n",
    "If a is an int and less than zero, if a or p are not 1-dimensional, if a is an array-like of size 0, if p is not a vector of probabilities, if a and p have different lengths, or if replace=False and the sample size is greater than the population size"
   ]
  },
  {
   "cell_type": "code",
   "execution_count": 14,
   "id": "522f502d-5422-42f5-9b5f-daaceb9d925d",
   "metadata": {},
   "outputs": [
    {
     "data": {
      "text/plain": [
       "array([0, 4, 3])"
      ]
     },
     "execution_count": 14,
     "metadata": {},
     "output_type": "execute_result"
    }
   ],
   "source": [
    "# Examples of numpy.random.choice\n",
    "np.random.choice(5, 3)"
   ]
  },
  {
   "cell_type": "code",
   "execution_count": 15,
   "id": "0162077e-76fe-404a-9bb7-c1984dee2c05",
   "metadata": {},
   "outputs": [
    {
     "data": {
      "text/plain": [
       "array([5, 4, 0, 5, 5])"
      ]
     },
     "execution_count": 15,
     "metadata": {},
     "output_type": "execute_result"
    }
   ],
   "source": [
    "# Generate a non-uniform random sample from np.arange(7) of size 5:\n",
    "np.random.choice(7, 5, p=[0.2, 0, 0.1, 0, 0.3, 0.4, 0]) # probability must be equal to 1"
   ]
  },
  {
   "cell_type": "markdown",
   "id": "4d5f79a4-9c84-4e2d-a607-6a256ee6a765",
   "metadata": {},
   "source": [
    "_References_: [3], [6], [14]"
   ]
  },
  {
   "cell_type": "markdown",
   "id": "c1fdfc3b-fce4-4629-ae30-5badde8ee45a",
   "metadata": {},
   "source": [
    "<br>"
   ]
  },
  {
   "cell_type": "markdown",
   "id": "fe9cb55e-ff55-4023-a006-8a4393d985ff",
   "metadata": {},
   "source": [
    "#### **numpy.random.bytes**\n",
    "***"
   ]
  },
  {
   "cell_type": "markdown",
   "id": "9cef9db1-a088-4b21-bd69-524083b647c2",
   "metadata": {},
   "source": [
    "`random.bytes(length)`"
   ]
  },
  {
   "cell_type": "markdown",
   "id": "b0b29af8-5788-4998-97d5-d23a4e910e43",
   "metadata": {},
   "source": [
    "This function returns a string of random bytes."
   ]
  },
  {
   "cell_type": "markdown",
   "id": "acda4d64-8e25-49d5-8e4c-9abaa8c3f996",
   "metadata": {},
   "source": [
    "**_Parameters:_** length: int  \n",
    "Number of random bytes.\n",
    "\n",
    "**_Returns:_** out: bytes  \n",
    "String of length length."
   ]
  },
  {
   "cell_type": "code",
   "execution_count": 16,
   "id": "a723b500-2ec6-4595-a82e-07ecb3f92475",
   "metadata": {},
   "outputs": [
    {
     "data": {
      "text/plain": [
       "b'\\xbf\\x93\\xc2\\xfe\\xd5\\x06Fr\\x9f\\x8as\\x98|'"
      ]
     },
     "execution_count": 16,
     "metadata": {},
     "output_type": "execute_result"
    }
   ],
   "source": [
    "# Example of numpy.random.bytes\n",
    "np.random.bytes(13)"
   ]
  },
  {
   "cell_type": "markdown",
   "id": "265a4d76-5e69-4d36-8679-ffa2a48d158a",
   "metadata": {},
   "source": [
    "_References_: [3], [6]"
   ]
  },
  {
   "cell_type": "markdown",
   "id": "77e34997-3383-40b8-82b9-b1b37ab86f13",
   "metadata": {},
   "source": [
    "<br>"
   ]
  },
  {
   "cell_type": "markdown",
   "id": "3cbb3afd-bc58-4b2c-ae11-eef88773091f",
   "metadata": {},
   "source": [
    "#### **2) Permutations**\n",
    "***"
   ]
  },
  {
   "cell_type": "markdown",
   "id": "fb2bdb9b-5b6d-4ee3-9fbb-d3bb3367eda4",
   "metadata": {},
   "source": [
    "There are two permutation functions available in the numpy.random package:"
   ]
  },
  {
   "cell_type": "markdown",
   "id": "2393613b-2a0c-4ed1-881e-6bb5ca7f7f3f",
   "metadata": {},
   "source": [
    "- shuffle() &\n",
    "- permutation()"
   ]
  },
  {
   "cell_type": "markdown",
   "id": "09ecd772-a1de-4da8-8f09-090e6eebe882",
   "metadata": {},
   "source": [
    "These functions allow us to arrange the elements in an array, but have different effects. Lets look at these two functions separately."
   ]
  },
  {
   "cell_type": "markdown",
   "id": "c0aca0ea-2407-4a3d-a71e-d34b47947ebe",
   "metadata": {},
   "source": [
    "<br>"
   ]
  },
  {
   "cell_type": "markdown",
   "id": "6029b469-f910-4843-b694-3e2d20254037",
   "metadata": {},
   "source": [
    "#### **numpy.random.shuffle**\n",
    "***"
   ]
  },
  {
   "cell_type": "markdown",
   "id": "f2c714b5-3a9f-4c5d-afa1-cfea28f8408c",
   "metadata": {},
   "source": [
    "`random.shuffle(x)`"
   ]
  },
  {
   "cell_type": "markdown",
   "id": "9110e4e2-4eac-4880-97dd-81e930f1375c",
   "metadata": {},
   "source": [
    "The shuffle function will modify a sequence in-place by shuffling its contents.\n",
    "\n",
    "It only shuffles the array along the first axis of a multi-dimensional array and although the order of sub-arrays is changed, their contents remain the same."
   ]
  },
  {
   "cell_type": "markdown",
   "id": "c4e2d4f2-b209-4373-a50a-4879bc1d94bd",
   "metadata": {},
   "source": [
    "**_Parameters:_** x: ndarray or MutableSequence  \n",
    "The array, list or mutable sequence to be shuffled.\n",
    "\n",
    "**_Returns:_** None"
   ]
  },
  {
   "cell_type": "code",
   "execution_count": 17,
   "id": "1240e510-77df-4e7d-b1f7-6eeea0e775de",
   "metadata": {},
   "outputs": [
    {
     "data": {
      "text/plain": [
       "[6, [6], 1, 2, 3]"
      ]
     },
     "execution_count": 17,
     "metadata": {},
     "output_type": "execute_result"
    }
   ],
   "source": [
    "# Example of numpy.random.shuffle\n",
    "arr = [1,6,3,[6],2]\n",
    "np.random.shuffle(arr)\n",
    "arr"
   ]
  },
  {
   "cell_type": "markdown",
   "id": "964e1517-0e01-494c-92db-fb0421dde592",
   "metadata": {},
   "source": [
    "_References_: [6], [14]"
   ]
  },
  {
   "cell_type": "markdown",
   "id": "edccc649-a026-40d3-80ef-884888e4f426",
   "metadata": {},
   "source": [
    "<br>"
   ]
  },
  {
   "cell_type": "markdown",
   "id": "6528cb70-68b5-4170-a63e-e131a9058b81",
   "metadata": {},
   "source": [
    "#### **numpy.random.permutation**\n",
    "***"
   ]
  },
  {
   "cell_type": "markdown",
   "id": "bec16028-42cd-4753-8d30-534c32fd7488",
   "metadata": {},
   "source": [
    "`random.permutation(x)`"
   ]
  },
  {
   "cell_type": "markdown",
   "id": "9fb6f07d-f430-4536-942d-4051f3b022ec",
   "metadata": {},
   "source": [
    "The permutation function will randomly permute (or rearrange) a sequence, or return a permuted range.\n",
    "If x is a multi-dimensional array, it will only be shuffled along its first index."
   ]
  },
  {
   "cell_type": "markdown",
   "id": "cccea6f9-0002-44d2-a8c6-e71c2cb7b26a",
   "metadata": {},
   "source": [
    "The difference between the permutation function and the shuffle function discussed above is that permutation() rearranges the array, but does not change or overwrite the original array, while the shuffle function changes the original array."
   ]
  },
  {
   "cell_type": "markdown",
   "id": "7d463937-f6eb-4a31-8f8d-4316788430ae",
   "metadata": {},
   "source": [
    "**_Parameters:_** x: int or array_like\n",
    "If x is an integer, randomly permute np.arange(x). If x is an array, make a copy and shuffle the elements randomly.\n",
    "\n",
    "**_Returns:_** out: ndarray\n",
    "Permuted sequence or array range."
   ]
  },
  {
   "cell_type": "code",
   "execution_count": 18,
   "id": "abb4dd8e-09b3-4517-9944-d5297cf0acd6",
   "metadata": {},
   "outputs": [
    {
     "data": {
      "text/plain": [
       "array([3, 4, 2, 0, 1])"
      ]
     },
     "execution_count": 18,
     "metadata": {},
     "output_type": "execute_result"
    }
   ],
   "source": [
    "# Examples of numpy.random.permutation\n",
    "np.random.permutation(5)"
   ]
  },
  {
   "cell_type": "code",
   "execution_count": 19,
   "id": "a4327756-358b-467c-920c-e1151f312db0",
   "metadata": {},
   "outputs": [
    {
     "data": {
      "text/plain": [
       "array([7, 9, 1, 6, 4])"
      ]
     },
     "execution_count": 19,
     "metadata": {},
     "output_type": "execute_result"
    }
   ],
   "source": [
    "# Permute a given sequence\n",
    "np.random.permutation([9,7,1,4,6])"
   ]
  },
  {
   "cell_type": "markdown",
   "id": "b7f50864-0c46-47de-b09c-4d512d83d2b0",
   "metadata": {},
   "source": [
    "_References_: [6], [14]"
   ]
  },
  {
   "cell_type": "markdown",
   "id": "ff0f0fb6-1e7d-4712-8560-a2f3efd4d42f",
   "metadata": {},
   "source": [
    "<br>"
   ]
  },
  {
   "cell_type": "markdown",
   "id": "0bc5aa28-a1cb-4d7c-9572-2a229ff3d0f4",
   "metadata": {},
   "source": [
    "***"
   ]
  },
  {
   "cell_type": "markdown",
   "id": "7f54f1a6-f5de-4c90-aca5-8076f100cda1",
   "metadata": {},
   "source": [
    "#### Task 3: Explain the use and purpose of at least five “Distributions” functions"
   ]
  },
  {
   "cell_type": "markdown",
   "id": "092b603e-de1d-4f16-a726-06cfc18b94cf",
   "metadata": {},
   "source": [
    "**1. Normal Distribution**"
   ]
  },
  {
   "cell_type": "markdown",
   "id": "573ea846-ea0b-451c-8c83-4690ce015917",
   "metadata": {},
   "source": [
    "You can't discuss generating random numbers without discussing normal distribution [10]."
   ]
  },
  {
   "cell_type": "code",
   "execution_count": null,
   "id": "0f23ebdb-75b2-4976-b093-2a5516f248d9",
   "metadata": {},
   "outputs": [],
   "source": []
  },
  {
   "cell_type": "code",
   "execution_count": null,
   "id": "96b03a5b-6b7b-4a8f-ba13-e9058a9407ab",
   "metadata": {},
   "outputs": [],
   "source": []
  },
  {
   "cell_type": "code",
   "execution_count": null,
   "id": "b53c8740-ba33-4aba-b62a-3ba7ae96bddf",
   "metadata": {},
   "outputs": [],
   "source": []
  },
  {
   "cell_type": "code",
   "execution_count": null,
   "id": "a0afda75-4b43-462f-aa2c-07475f83c1a0",
   "metadata": {},
   "outputs": [],
   "source": []
  },
  {
   "cell_type": "markdown",
   "id": "a229ff26-c58f-46d1-9e68-61cc31673215",
   "metadata": {},
   "source": [
    "#### References\n",
    "[] https://www.datacamp.com/community/tutorials/numpy-random  \n",
    "[2] https://docs.python.org/3/library/random.html  \n",
    "[3] https://het.as.utexas.edu/HET/Software/Numpy/reference/routines.random.html   \n",
    "[] https://www.javatpoint.com/numpy-random  \n",
    "[] https://linuxhint.com/use-python-numpy-random-function/  \n",
    "[6] https://numpy.org/  \n",
    "[6]https://numpy.org/doc/stable/reference/random/bit_generators/pcg64.html  \n",
    "[7] https://numpy.org/doc/stable/reference/random/index.html?highlight=random%20sampling%20numpy%20random#module-numpy.random  \n",
    "[] https://numpy.org/doc/stable/reference/random/generated/numpy.random.rand.html  \n",
    "[] https://pythonguides.com/python-numpy-random/  \n",
    "[7] https://realpython.com/numpy-tutorial/  \n",
    "[] https://www.sharpsightlabs.com/blog/numpy-random-seed/  \n",
    "[] https://www.studytonight.com/post/creating-random-valuedarrays-in-numpy  \n",
    "[11] https://towardsdatascience.com/random-numbers-in-numpy-[6]9172d6eac16  \n",
    "[] https://towardsdatascience.com/random-seed-numpy-7[6]6cf7[6]76a5f  \n",
    "[13] https://towardsdatascience.com/statistics-in-python-generating-random-numbers-in-python-numpy-and-sklearn-60e16b2210ae  \n",
    "[14] https://www.w3schools.com/python/numpy/numpy_random.asp  \n",
    "[] https://www.w3schools.com/python/numpy/numpy_random_permutation.asp  \n",
    "[] https://web.physics.utah.edu/~detar/lessons/python/random/node2.html  \n",
    "[] https://www.pythonpool.com/numpy-random-permutation/  "
   ]
  },
  {
   "cell_type": "code",
   "execution_count": null,
   "id": "858188c2-d2d0-4d92-8b63-ad8a2a9f8ef7",
   "metadata": {},
   "outputs": [],
   "source": []
  }
 ],
 "metadata": {
  "kernelspec": {
   "display_name": "Python 3",
   "language": "python",
   "name": "python3"
  },
  "language_info": {
   "codemirror_mode": {
    "name": "ipython",
    "version": 3
   },
   "file_extension": ".py",
   "mimetype": "text/x-python",
   "name": "python",
   "nbconvert_exporter": "python",
   "pygments_lexer": "ipython3",
   "version": "3.8.8"
  }
 },
 "nbformat": 4,
 "nbformat_minor": 5
}
