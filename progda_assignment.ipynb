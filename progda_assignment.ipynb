{
 "cells": [
  {
   "cell_type": "markdown",
   "id": "7f572981-c01d-4f52-9d3e-d01399c1e249",
   "metadata": {},
   "source": [
    "***\n",
    "# The numpy.random Package in Python\n",
    "**Student Name:** Gillian Kane-McLoughlin | \n",
    "**Student Number:** G00398258 | \n",
    "**Due Date:** 22nd November 2021\n",
    "***"
   ]
  },
  {
   "cell_type": "markdown",
   "id": "cbf4badb-602f-43dc-8be9-55c09df6fbb0",
   "metadata": {},
   "source": [
    "<br>"
   ]
  },
  {
   "cell_type": "markdown",
   "id": "055e6aed-fe05-45bf-9cfc-b8c3c42d649f",
   "metadata": {},
   "source": [
    "#### Overview\n",
    "This notebook will contain my submission for the Programming for Data Analysis practical assignment for winter 2021"
   ]
  },
  {
   "cell_type": "markdown",
   "id": "43311369-013e-41c3-82f0-ac09661cae2c",
   "metadata": {},
   "source": [
    "<br>"
   ]
  },
  {
   "cell_type": "markdown",
   "id": "99549da1-c85c-4ebb-9407-ec46be2f23e8",
   "metadata": {},
   "source": [
    "***"
   ]
  },
  {
   "cell_type": "markdown",
   "id": "307dd68e-eca9-4dd5-8d8f-9ee060da4a04",
   "metadata": {},
   "source": [
    "<br>"
   ]
  },
  {
   "cell_type": "markdown",
   "id": "98a94c22-ad6b-4d6a-b9b5-65f422a223b5",
   "metadata": {},
   "source": [
    "#### Required Modules"
   ]
  },
  {
   "cell_type": "code",
   "execution_count": 1,
   "id": "0530a983-0d56-44c8-b541-a66fd5c4a9f3",
   "metadata": {},
   "outputs": [],
   "source": [
    "import numpy as np"
   ]
  },
  {
   "cell_type": "code",
   "execution_count": null,
   "id": "822004e5-08c5-47b1-ae19-413cf99f98ca",
   "metadata": {},
   "outputs": [],
   "source": []
  },
  {
   "cell_type": "markdown",
   "id": "f2b86953-68ed-482a-ab77-a92e2fec57aa",
   "metadata": {},
   "source": [
    "#### Task 1: Explain the overall purpose of the package"
   ]
  },
  {
   "cell_type": "markdown",
   "id": "0d966e44-e4d2-4c62-a825-18fc267365b9",
   "metadata": {},
   "source": [
    "According to the official documentation, NumPy or numerical Python is the fundamental package for scientific computing in Python [5]. This Python library not only provides a multidimensional array object, but also various derived objects including matrices and masked arrays, as well as routines for performing fast operations on arrays such as sorting, basic linear algebra and statistical operations, random simulation, etc. [5]. The NumPy Python library provides us with what Real Python describes as a simple yet powerful data structure - the n-dimensional array [7]. "
   ]
  },
  {
   "cell_type": "markdown",
   "id": "24b7f46b-472f-4e01-9ba2-8a092af8bb8b",
   "metadata": {},
   "source": [
    "Within the overall NumPy package, the random module, accessed using the basic function numpy.random(), implements pseudo-random number generators for various distributions, including uniform, normal, and negative exponential [2]. There are two components to generating random numbers: the BitGenerator, which manages state and provides functions to produce random doubles and random unsigned 32- and 64-bit values, and the random generator, which takes the bit generator-provided stream and transforms them into more useful distributions [7]. The Generator, a user-facing object, accepts a bit generator instance as an argument [7]. The default generator is currently PCG64 (Permuted Congruential Generator) [6], but an older generator MT19937 (Mersenne Twister) can also be accessed, although this is not recommended [7] "
   ]
  },
  {
   "cell_type": "code",
   "execution_count": null,
   "id": "303b2763-59ce-4519-a5dd-8ed173c519c0",
   "metadata": {},
   "outputs": [],
   "source": []
  },
  {
   "cell_type": "code",
   "execution_count": null,
   "id": "53fa9a1f-9b55-4ee7-a4d1-1187f4d779f5",
   "metadata": {},
   "outputs": [],
   "source": []
  },
  {
   "cell_type": "markdown",
   "id": "ed627ed5-53ba-4f15-86d1-ace0bdd034af",
   "metadata": {},
   "source": [
    "#### Task 2: Explain the use of the “Simple random data” and “Permutations” functions"
   ]
  },
  {
   "cell_type": "markdown",
   "id": "6fd59b08-fb81-4611-94ab-ccdfceb77ee5",
   "metadata": {},
   "source": [
    "https://het.as.utexas.edu/HET/Software/Numpy/reference/routines.random.html"
   ]
  },
  {
   "cell_type": "code",
   "execution_count": null,
   "id": "9ec9139b-1f45-40ae-a596-3a508b109e70",
   "metadata": {},
   "outputs": [],
   "source": []
  },
  {
   "cell_type": "code",
   "execution_count": null,
   "id": "5c9aca4e-f71f-4932-b0b4-4ddc8f7b9ef7",
   "metadata": {},
   "outputs": [],
   "source": []
  },
  {
   "cell_type": "code",
   "execution_count": null,
   "id": "11e6fab2-574b-4c20-9acd-2cc9edac3de0",
   "metadata": {},
   "outputs": [],
   "source": []
  },
  {
   "cell_type": "code",
   "execution_count": null,
   "id": "7138b28d-fe7e-4733-8771-9f377c761b32",
   "metadata": {},
   "outputs": [],
   "source": []
  },
  {
   "cell_type": "code",
   "execution_count": null,
   "id": "89bc4c6d-a9ce-4c40-a36e-df92bebdd716",
   "metadata": {},
   "outputs": [],
   "source": []
  },
  {
   "cell_type": "markdown",
   "id": "7f54f1a6-f5de-4c90-aca5-8076f100cda1",
   "metadata": {},
   "source": [
    "#### Task 3: Explain the use and purpose of at least five “Distributions” functions"
   ]
  },
  {
   "cell_type": "markdown",
   "id": "092b603e-de1d-4f16-a726-06cfc18b94cf",
   "metadata": {},
   "source": [
    "**1. Normal Distribution**"
   ]
  },
  {
   "cell_type": "markdown",
   "id": "573ea846-ea0b-451c-8c83-4690ce015917",
   "metadata": {},
   "source": [
    "You can't discuss generating random numbers without discussing normal distribution [10]."
   ]
  },
  {
   "cell_type": "code",
   "execution_count": null,
   "id": "0f23ebdb-75b2-4976-b093-2a5516f248d9",
   "metadata": {},
   "outputs": [],
   "source": []
  },
  {
   "cell_type": "code",
   "execution_count": null,
   "id": "96b03a5b-6b7b-4a8f-ba13-e9058a9407ab",
   "metadata": {},
   "outputs": [],
   "source": []
  },
  {
   "cell_type": "code",
   "execution_count": null,
   "id": "b53c8740-ba33-4aba-b62a-3ba7ae96bddf",
   "metadata": {},
   "outputs": [],
   "source": []
  },
  {
   "cell_type": "code",
   "execution_count": null,
   "id": "a0afda75-4b43-462f-aa2c-07475f83c1a0",
   "metadata": {},
   "outputs": [],
   "source": []
  },
  {
   "cell_type": "markdown",
   "id": "a229ff26-c58f-46d1-9e68-61cc31673215",
   "metadata": {},
   "source": [
    "#### References\n",
    "[] https://www.datacamp.com/community/tutorials/numpy-random  \n",
    "[2] https://docs.python.org/3/library/random.html  \n",
    "[] https://www.javatpoint.com/numpy-random  \n",
    "[] https://linuxhint.com/use-python-numpy-random-function/  \n",
    "[5] https://numpy.org/  \n",
    "[6]https://numpy.org/doc/stable/reference/random/bit_generators/pcg64.html  \n",
    "[7] https://numpy.org/doc/stable/reference/random/index.html?highlight=random%20sampling%20numpy%20random#module-numpy.random  \n",
    "[] https://pythonguides.com/python-numpy-random/  \n",
    "[7] https://realpython.com/numpy-tutorial/  \n",
    "[] https://www.sharpsightlabs.com/blog/numpy-random-seed/  \n",
    "[] https://www.studytonight.com/post/creating-random-valuedarrays-in-numpy  \n",
    "[11] https://towardsdatascience.com/random-numbers-in-numpy-89172d6eac16  \n",
    "[] https://towardsdatascience.com/random-seed-numpy-786cf7876a5f  \n",
    "[] https://www.w3schools.com/python/numpy/numpy_random.asp  \n",
    "[] https://web.physics.utah.edu/~detar/lessons/python/random/node2.html  "
   ]
  },
  {
   "cell_type": "code",
   "execution_count": null,
   "id": "858188c2-d2d0-4d92-8b63-ad8a2a9f8ef7",
   "metadata": {},
   "outputs": [],
   "source": []
  }
 ],
 "metadata": {
  "kernelspec": {
   "display_name": "Python 3",
   "language": "python",
   "name": "python3"
  },
  "language_info": {
   "codemirror_mode": {
    "name": "ipython",
    "version": 3
   },
   "file_extension": ".py",
   "mimetype": "text/x-python",
   "name": "python",
   "nbconvert_exporter": "python",
   "pygments_lexer": "ipython3",
   "version": "3.8.8"
  }
 },
 "nbformat": 4,
 "nbformat_minor": 5
}
