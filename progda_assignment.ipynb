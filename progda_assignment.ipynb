{
 "cells": [
  {
   "cell_type": "markdown",
   "id": "7f572981-c01d-4f52-9d3e-d01399c1e249",
   "metadata": {},
   "source": [
    "# The numpy.random Package in Python\n",
    "**Student Name:** Gillian Kane-McLoughlin | \n",
    "**Student Number:** G00398258 | \n",
    "**Due Date:** 22nd November 2021\n",
    "***"
   ]
  },
  {
   "cell_type": "markdown",
   "id": "cbf4badb-602f-43dc-8be9-55c09df6fbb0",
   "metadata": {},
   "source": [
    "<br>"
   ]
  },
  {
   "cell_type": "markdown",
   "id": "055e6aed-fe05-45bf-9cfc-b8c3c42d649f",
   "metadata": {},
   "source": [
    "#### Overview\n",
    "This notebook will contain my submission for the Programming for Data Analysis practical assignment for winter 2021"
   ]
  },
  {
   "cell_type": "markdown",
   "id": "99549da1-c85c-4ebb-9407-ec46be2f23e8",
   "metadata": {},
   "source": [
    "***"
   ]
  },
  {
   "cell_type": "markdown",
   "id": "307dd68e-eca9-4dd5-8d8f-9ee060da4a04",
   "metadata": {},
   "source": [
    "<br>"
   ]
  },
  {
   "cell_type": "markdown",
   "id": "98a94c22-ad6b-4d6a-b9b5-65f422a223b5",
   "metadata": {},
   "source": [
    "#### Required Modules"
   ]
  },
  {
   "cell_type": "code",
   "execution_count": 1,
   "id": "0530a983-0d56-44c8-b541-a66fd5c4a9f3",
   "metadata": {},
   "outputs": [],
   "source": [
    "import numpy as np"
   ]
  },
  {
   "cell_type": "code",
   "execution_count": null,
   "id": "822004e5-08c5-47b1-ae19-413cf99f98ca",
   "metadata": {},
   "outputs": [],
   "source": []
  },
  {
   "cell_type": "markdown",
   "id": "f2b86953-68ed-482a-ab77-a92e2fec57aa",
   "metadata": {},
   "source": [
    "#### Task 1: Explain the overall purpose of the package"
   ]
  },
  {
   "cell_type": "markdown",
   "id": "0d966e44-e4d2-4c62-a825-18fc267365b9",
   "metadata": {},
   "source": [
    "According to the official documentation, NumPy is the fundamental package for scientific computing in Python [4]. This Python library not only provides a multidimensional array object, but also various derived objects including matrices and masked arrays, as well as routines for performing fast operations on arrays such as sorting, basic linear algebra and statistical operations, random simulation, etc. [4]  "
   ]
  },
  {
   "cell_type": "markdown",
   "id": "24b7f46b-472f-4e01-9ba2-8a092af8bb8b",
   "metadata": {},
   "source": [
    "The NumPy Python library provides us with what Real Python describes as a simple yet powerful data structure - the n-dimensional array [6]."
   ]
  },
  {
   "cell_type": "code",
   "execution_count": null,
   "id": "303b2763-59ce-4519-a5dd-8ed173c519c0",
   "metadata": {},
   "outputs": [],
   "source": []
  },
  {
   "cell_type": "code",
   "execution_count": null,
   "id": "53fa9a1f-9b55-4ee7-a4d1-1187f4d779f5",
   "metadata": {},
   "outputs": [],
   "source": []
  },
  {
   "cell_type": "code",
   "execution_count": null,
   "id": "a0afda75-4b43-462f-aa2c-07475f83c1a0",
   "metadata": {},
   "outputs": [],
   "source": []
  },
  {
   "cell_type": "markdown",
   "id": "a229ff26-c58f-46d1-9e68-61cc31673215",
   "metadata": {},
   "source": [
    "#### References\n",
    "[] https://www.datacamp.com/community/tutorials/numpy-random  \n",
    "[] https://www.javatpoint.com/numpy-random  \n",
    "[] https://linuxhint.com/use-python-numpy-random-function/  \n",
    "[4] https://numpy.org/  \n",
    "[] https://pythonguides.com/python-numpy-random/  \n",
    "[6] https://realpython.com/numpy-tutorial/  \n",
    "[] https://www.sharpsightlabs.com/blog/numpy-random-seed/  \n",
    "[] https://www.studytonight.com/post/creating-random-valuedarrays-in-numpy  \n",
    "[] https://towardsdatascience.com/random-seed-numpy-786cf7876a5f  \n",
    "[] https://www.w3schools.com/python/numpy/numpy_random.asp  \n",
    "[] https://web.physics.utah.edu/~detar/lessons/python/random/node2.html  "
   ]
  },
  {
   "cell_type": "code",
   "execution_count": null,
   "id": "858188c2-d2d0-4d92-8b63-ad8a2a9f8ef7",
   "metadata": {},
   "outputs": [],
   "source": []
  }
 ],
 "metadata": {
  "kernelspec": {
   "display_name": "Python 3",
   "language": "python",
   "name": "python3"
  },
  "language_info": {
   "codemirror_mode": {
    "name": "ipython",
    "version": 3
   },
   "file_extension": ".py",
   "mimetype": "text/x-python",
   "name": "python",
   "nbconvert_exporter": "python",
   "pygments_lexer": "ipython3",
   "version": "3.8.8"
  }
 },
 "nbformat": 4,
 "nbformat_minor": 5
}
