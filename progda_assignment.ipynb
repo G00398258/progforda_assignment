{
 "cells": [
  {
   "cell_type": "markdown",
   "id": "7f572981-c01d-4f52-9d3e-d01399c1e249",
   "metadata": {},
   "source": [
    "***\n",
    "# The numpy.random Package in Python\n",
    "**Student Name:** Gillian Kane-McLoughlin | \n",
    "**Student Number:** G00398258 | \n",
    "**Due Date:** 22nd November 2021"
   ]
  },
  {
   "cell_type": "markdown",
   "id": "205b58fb-6a8a-4f0d-b65b-0b42f201866b",
   "metadata": {},
   "source": [
    "***"
   ]
  },
  {
   "cell_type": "markdown",
   "id": "055e6aed-fe05-45bf-9cfc-b8c3c42d649f",
   "metadata": {},
   "source": [
    "#### Overview\n",
    "This notebook will contain my submission for the Programming for Data Analysis practical assignment for Winter 2021"
   ]
  },
  {
   "cell_type": "markdown",
   "id": "43311369-013e-41c3-82f0-ac09661cae2c",
   "metadata": {},
   "source": [
    "<br>"
   ]
  },
  {
   "cell_type": "markdown",
   "id": "99549da1-c85c-4ebb-9407-ec46be2f23e8",
   "metadata": {},
   "source": [
    "***"
   ]
  },
  {
   "cell_type": "markdown",
   "id": "98a94c22-ad6b-4d6a-b9b5-65f422a223b5",
   "metadata": {},
   "source": [
    "#### Required Modules"
   ]
  },
  {
   "cell_type": "code",
   "execution_count": 1,
   "id": "0530a983-0d56-44c8-b541-a66fd5c4a9f3",
   "metadata": {},
   "outputs": [],
   "source": [
    "import numpy as np"
   ]
  },
  {
   "cell_type": "code",
   "execution_count": 2,
   "id": "822004e5-08c5-47b1-ae19-413cf99f98ca",
   "metadata": {},
   "outputs": [],
   "source": [
    "import matplotlib.pyplot as plt"
   ]
  },
  {
   "cell_type": "code",
   "execution_count": 3,
   "id": "3e2c4615-f6ba-42f3-b58b-9f5dd4b65b20",
   "metadata": {},
   "outputs": [],
   "source": [
    "import seaborn as sns"
   ]
  },
  {
   "cell_type": "code",
   "execution_count": 4,
   "id": "fca9434e-1bfd-403e-995c-1cef943a6464",
   "metadata": {},
   "outputs": [],
   "source": [
    "import time"
   ]
  },
  {
   "cell_type": "markdown",
   "id": "080bc512-c4ab-44a7-a9d8-52e1af4ac450",
   "metadata": {},
   "source": [
    "<br>"
   ]
  },
  {
   "cell_type": "markdown",
   "id": "bf9664e7-d8d5-4a58-9e3d-51ed5cc7fb06",
   "metadata": {},
   "source": [
    "***"
   ]
  },
  {
   "cell_type": "markdown",
   "id": "f2b86953-68ed-482a-ab77-a92e2fec57aa",
   "metadata": {},
   "source": [
    "#### Task 1: Explain the overall purpose of the package"
   ]
  },
  {
   "cell_type": "markdown",
   "id": "0d966e44-e4d2-4c62-a825-18fc267365b9",
   "metadata": {},
   "source": [
    "_What is NumPy?_  \n",
    "![data:image/png;base64,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](data:image/png;base64,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)  \n",
    "_Image Source:_ [en.wikipedia.org](data:image/png;base64,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)  "
   ]
  },
  {
   "cell_type": "markdown",
   "id": "42129de0-627c-4e9f-9c44-a46547be0f14",
   "metadata": {},
   "source": [
    "According to the official documentation, NumPy or numerical Python is the fundamental package for scientific computing in Python [7]. This Python library not only provides a multidimensional array object, but also various derived objects including matrices and masked arrays, as well as routines for performing fast operations on arrays such as sorting, basic linear algebra and statistical operations, random simulation, etc. [7]. The NumPy Python library provides us with what Real Python describes as a simple yet powerful data structure - the n-dimensional array [10]. "
   ]
  },
  {
   "cell_type": "markdown",
   "id": "24b7f46b-472f-4e01-9ba2-8a092af8bb8b",
   "metadata": {},
   "source": [
    "_What is numpy.random()?_  \n",
    "Within the overall NumPy package, the random module, accessed using the basic function numpy.random(), implements pseudo-random number generators for various distributions, including uniform, normal, and negative exponential [2]. The module contains many different functions for generating pseudo-random numbers (more on those later).\n",
    "\n",
    "_How does it work? (the technical stuff)_  \n",
    "There are two components to generating random numbers: the BitGenerator, which manages state and provides functions to produce random doubles and random unsigned 32- and 64-bit values, and the random generator, which takes the bit generator-provided stream and transforms them into more useful distributions [7].  \n",
    "The Generator, a user-facing object, accepts a bit generator instance as an argument [7]. The default generator is currently PCG64 (Permuted Congruential Generator), but an older generator MT19937 (Mersenne Twister) can also be accessed, although this is not recommended [7], as PCG64 is considered to have better statistical properties when compared to Mersenne Twister while also being faster and more space-efficient [12].  \n",
    "A seed value initializes the random number generator [30]. We will look at seeds in more detail later on.  \n",
    "\n",
    "_How is it useful?_  \n",
    "Random numbers are used in a variety of different applications, from gaming to risk assessment, cryptography and scientific hypothesis testing, and numpy.random's ability to produce samples from a particular probability distribution also allows it to simulate datasets that can be used to demonstrate statistical concepts [17]. "
   ]
  },
  {
   "cell_type": "markdown",
   "id": "1e913ec2-1792-40d8-bec6-2a71a44a5c4c",
   "metadata": {},
   "source": [
    "<br>"
   ]
  },
  {
   "cell_type": "markdown",
   "id": "0c556759-1c92-46a1-afd0-3b07399dd7c4",
   "metadata": {},
   "source": [
    "***"
   ]
  },
  {
   "cell_type": "markdown",
   "id": "ed627ed5-53ba-4f15-86d1-ace0bdd034af",
   "metadata": {},
   "source": [
    "#### Task 2: Explain the use of the “Simple random data” and “Permutations” functions"
   ]
  },
  {
   "cell_type": "markdown",
   "id": "bdde7f6c-647c-483f-bbcc-c6469ec70414",
   "metadata": {},
   "source": [
    "<br>"
   ]
  },
  {
   "cell_type": "markdown",
   "id": "53bf22ec-28cb-4cee-b876-d6d71f650d43",
   "metadata": {},
   "source": [
    "#### **a) Simple Random Data**\n",
    "***"
   ]
  },
  {
   "cell_type": "markdown",
   "id": "e3de0020-8aa2-4e5a-bea7-286aee8f32ef",
   "metadata": {},
   "source": [
    "There are ten different simple random data functions available in the numpy.random package for generating pseudo-random numbers, some of which are aliases for each other and others that are deprecated:"
   ]
  },
  {
   "cell_type": "markdown",
   "id": "aa649645-a267-497c-a548-6500b30067df",
   "metadata": {},
   "source": [
    "- rand(d0, d1, ..., dn)  \n",
    "- randn(d0, d1, ..., dn)  \n",
    "- randint(low[, high, size])\n",
    "- random_integers(low[, high, size])\n",
    "- random_sample([size])\n",
    "- random([size])\n",
    "- ranf([size])\n",
    "- sample([size])\n",
    "- choice(a[, size, replace, p])\n",
    "- bytes(length)"
   ]
  },
  {
   "cell_type": "markdown",
   "id": "56b74971-c13b-4f92-af18-3e2e096fbfa9",
   "metadata": {},
   "source": [
    "Lets take a look at each of these functions in turn and see what the syntax looks like, the paramaters and outputs for each as per the official documentation on NumPy.org, and some practical examples of the code in use."
   ]
  },
  {
   "cell_type": "markdown",
   "id": "ca974c99-2480-4b84-b6be-b0ace51b9dd5",
   "metadata": {},
   "source": [
    "<br>"
   ]
  },
  {
   "cell_type": "markdown",
   "id": "16872ebe-92c5-47c6-8097-dddafa63de1a",
   "metadata": {},
   "source": [
    "#### **numpy.random.rand**\n",
    "***"
   ]
  },
  {
   "cell_type": "markdown",
   "id": "b8c0a476-fd69-4d98-bbf3-ab027742a5a1",
   "metadata": {},
   "source": [
    "`random.rand(d0, d1, ..., dn)`"
   ]
  },
  {
   "cell_type": "markdown",
   "id": "cf724786-43dc-44ab-92ba-c1443236c054",
   "metadata": {},
   "source": [
    "As per the official documentation, this function returns values in a given shape by creating an array and populating it with random samples from a uniform distribution (values between 0 & 1)."
   ]
  },
  {
   "cell_type": "markdown",
   "id": "e7ff500a-446d-485c-a021-f3eec999f1b9",
   "metadata": {},
   "source": [
    "**_Parameters:_** d0, d1, …, dnint, optional  \n",
    "The dimensions of the returned array, must be non-negative. If no argument is given a single Python float is returned.\n",
    "\n",
    "**_Returns:_** out: ndarray, shape (d0, d1, ..., dn)  \n",
    "Random values."
   ]
  },
  {
   "cell_type": "code",
   "execution_count": 5,
   "id": "b5a1c278-2425-4cdb-b609-c869ac80b8d3",
   "metadata": {},
   "outputs": [
    {
     "data": {
      "text/plain": [
       "array([[0.74460274, 0.73819193, 0.07615001],\n",
       "       [0.82000113, 0.36546014, 0.57308404],\n",
       "       [0.16834641, 0.75969144, 0.74656996],\n",
       "       [0.27799935, 0.25572769, 0.74861176],\n",
       "       [0.75582915, 0.38206549, 0.32045914],\n",
       "       [0.94949832, 0.2646985 , 0.98297423],\n",
       "       [0.0223472 , 0.89142215, 0.74161951]])"
      ]
     },
     "execution_count": 5,
     "metadata": {},
     "output_type": "execute_result"
    }
   ],
   "source": [
    "# Examples of numpy.random.rand - generate a 7 x 3 array of random numbers\n",
    "np.random.rand(7,3)"
   ]
  },
  {
   "cell_type": "code",
   "execution_count": 6,
   "id": "c9f80fe5-642d-40d2-a343-8106338f9b13",
   "metadata": {},
   "outputs": [
    {
     "data": {
      "text/plain": [
       "0.18569658871821226"
      ]
     },
     "execution_count": 6,
     "metadata": {},
     "output_type": "execute_result"
    }
   ],
   "source": [
    "# Generate a random float\n",
    "np.random.rand()"
   ]
  },
  {
   "cell_type": "markdown",
   "id": "09f26e7f-e666-463f-9a1e-d0a0c56a4028",
   "metadata": {},
   "source": [
    "_References_: [4], [7]"
   ]
  },
  {
   "cell_type": "markdown",
   "id": "a7b808d9-042a-4f01-a842-93ddda281c56",
   "metadata": {},
   "source": [
    "<br>"
   ]
  },
  {
   "cell_type": "markdown",
   "id": "bef949cf-8fa5-4fab-a2a1-e3834ed3796d",
   "metadata": {},
   "source": [
    "#### **numpy.random.randn**\n",
    "***"
   ]
  },
  {
   "cell_type": "markdown",
   "id": "a75d087e-f3a9-404f-aa78-a71da986751d",
   "metadata": {},
   "source": [
    "`random.randn(d0, d1, ..., dn)`"
   ]
  },
  {
   "cell_type": "markdown",
   "id": "4abd357d-05c9-4027-a557-cf38d92f1307",
   "metadata": {},
   "source": [
    "This function returns a sample or samples from the standard normal distribution."
   ]
  },
  {
   "cell_type": "markdown",
   "id": "c5aee229-1e2c-4d80-b982-02607f96a615",
   "metadata": {},
   "source": [
    "The randn function will generate an array with the shape (d0, d1, ..., dn), filled with random floats sampled from a univariate “normal” (Gaussian) distribution of mean 0 and variance 1 if positive int_like arguments are inputted, and will return a single float randomly sampled from the distribution if no argument is provided."
   ]
  },
  {
   "cell_type": "markdown",
   "id": "c1f83940-a114-409f-90c9-97165d0e15db",
   "metadata": {},
   "source": [
    "**_Parameters:_** d0, d1, …, dnint, optional  \n",
    "The dimensions of the returned array must be non-negative. If no argument is given a single Python float is returned.\n",
    "\n",
    "**_Returns:_** Z: ndarray or float  \n",
    "A (d0, d1, ..., dn)-shaped array of floating-point samples from the standard normal distribution, or a single such float if no parameters were supplied."
   ]
  },
  {
   "cell_type": "code",
   "execution_count": 7,
   "id": "94235eba-e8fa-4213-aa59-48c96d702dec",
   "metadata": {},
   "outputs": [
    {
     "data": {
      "text/plain": [
       "0.5597820131379566"
      ]
     },
     "execution_count": 7,
     "metadata": {},
     "output_type": "execute_result"
    }
   ],
   "source": [
    "# Examples of numpy.random.randn - generate a float from the normal distribution\n",
    "np.random.randn()"
   ]
  },
  {
   "cell_type": "code",
   "execution_count": 8,
   "id": "aaf7cf35-7e66-44f3-8398-0433ea4c066f",
   "metadata": {},
   "outputs": [
    {
     "data": {
      "text/plain": [
       "array([0.86237009, 1.80957473, 0.09338342])"
      ]
     },
     "execution_count": 8,
     "metadata": {},
     "output_type": "execute_result"
    }
   ],
   "source": [
    "# Generate 3 floats from the normal distribution\n",
    "np.random.randn(3)"
   ]
  },
  {
   "cell_type": "code",
   "execution_count": 9,
   "id": "96d411a5-1013-41dd-8b6b-3178a76cf663",
   "metadata": {},
   "outputs": [
    {
     "data": {
      "text/plain": [
       "array([[ 0.73501829,  3.55389955,  2.32845545,  5.45159352],\n",
       "       [-2.57085038,  1.13412269,  2.17204527, -0.93648554]])"
      ]
     },
     "execution_count": 9,
     "metadata": {},
     "output_type": "execute_result"
    }
   ],
   "source": [
    "# Generate a two-by-four array of samples from N(3, 6.25):\n",
    "3 + 2.5 * np.random.randn(2, 4) \n",
    "# Copied directly from https://numpy.org/doc/stable/reference/random/generated/numpy.random.randn.html"
   ]
  },
  {
   "cell_type": "markdown",
   "id": "1ecbdd8e-ec5c-4ea7-85b7-8eddf44cb9a1",
   "metadata": {},
   "source": [
    "_References_: [4], [7]"
   ]
  },
  {
   "cell_type": "markdown",
   "id": "428583f4-05d7-48e6-9f2d-c93d9238ed73",
   "metadata": {},
   "source": [
    "<br>"
   ]
  },
  {
   "cell_type": "markdown",
   "id": "dcf81213-dbf0-430e-958a-6127c41b04b6",
   "metadata": {},
   "source": [
    "#### **numpy.random.randint**\n",
    "***"
   ]
  },
  {
   "cell_type": "markdown",
   "id": "07c4ac0e-f6ec-47db-9b93-dfb464cf7878",
   "metadata": {},
   "source": [
    "`random.randint(low, high=None, size=None, dtype=int)`"
   ]
  },
  {
   "cell_type": "markdown",
   "id": "2c424391-c35a-4a01-8f46-cf372f1f6505",
   "metadata": {},
   "source": [
    "This function returns random integers from low (inclusive) to high (exclusive) from the discrete uniform distribution of the specified dtype in the “half-open” interval [low, high)."
   ]
  },
  {
   "cell_type": "markdown",
   "id": "79ce367b-b0da-4708-91b6-92073e9034d7",
   "metadata": {},
   "source": [
    "The documenatation states that if high is None (which is the default), then the results are from [0, low)."
   ]
  },
  {
   "cell_type": "markdown",
   "id": "7c4bd60b-2a8b-447e-8a32-fd3c9640eeb5",
   "metadata": {},
   "source": [
    "**_Parameters:_**  low: int or array-like of ints  \n",
    "Lowest (signed) integers to be drawn from the distribution (unless high=None, in which case this parameter is one above the highest such integer).\n",
    "\n",
    "**_Optional:_** high: int or array-like of ints  \n",
    "If provided, one above the largest (signed) integer to be drawn from the distribution (see above for behavior if high=None). If array-like, must contain integer values\n",
    "\n",
    "**_Optional:_** size: int or tuple of ints  \n",
    "Output shape. If the given shape is, e.g., (m, n, k), then m * n * k samples are drawn. Default is None, in which case a single value is returned.\n",
    "\n",
    "**_Optional:_** dtype: dtype    \n",
    "Desired dtype of the result. Byteorder must be native. The default value is int.\n",
    "\n",
    "**_Returns:_** out: int or ndarray of ints    \n",
    "size-shaped array of random integers from the appropriate distribution, or a single such random int if size not provided."
   ]
  },
  {
   "cell_type": "code",
   "execution_count": 10,
   "id": "cf61cb7e-097d-4da0-94a4-e14f5bc6264e",
   "metadata": {},
   "outputs": [
    {
     "data": {
      "text/plain": [
       "array([2, 3, 5, 5, 4])"
      ]
     },
     "execution_count": 10,
     "metadata": {},
     "output_type": "execute_result"
    }
   ],
   "source": [
    "# Examples of numpy.random.randint - generate 5 random numbers with the given parameters\n",
    "np.random.randint(low=1, high=7, size=5)"
   ]
  },
  {
   "cell_type": "code",
   "execution_count": 11,
   "id": "db0194bd-e01e-4930-b7c3-516861cd4b4b",
   "metadata": {},
   "outputs": [
    {
     "data": {
      "text/plain": [
       "array([3, 4, 8])"
      ]
     },
     "execution_count": 11,
     "metadata": {},
     "output_type": "execute_result"
    }
   ],
   "source": [
    "# Generate a 1 x 3 array with 3 different upper bounds\n",
    "np.random.randint(1, [5, 7, 9])"
   ]
  },
  {
   "cell_type": "code",
   "execution_count": 12,
   "id": "0221375b-d1f6-41da-86f9-5b218fc27554",
   "metadata": {},
   "outputs": [
    {
     "data": {
      "text/plain": [
       "array([[5, 4, 0, 4, 5, 3],\n",
       "       [5, 3, 6, 1, 6, 1],\n",
       "       [4, 0, 0, 6, 0, 5]])"
      ]
     },
     "execution_count": 12,
     "metadata": {},
     "output_type": "execute_result"
    }
   ],
   "source": [
    "# Generate a 3 x 6 array of ints between 0 and 6, inclusive:\n",
    "np.random.randint(7, size=(3, 6))"
   ]
  },
  {
   "cell_type": "markdown",
   "id": "8e2e2e4b-ca6b-4f6c-9c81-a82a378920dd",
   "metadata": {},
   "source": [
    "_References_: [4], [7]"
   ]
  },
  {
   "cell_type": "markdown",
   "id": "05204d2a-26bd-468f-aa06-170cb7c4706e",
   "metadata": {},
   "source": [
    "<br>"
   ]
  },
  {
   "cell_type": "markdown",
   "id": "457203e8-df24-434f-8be6-ac486c12df8e",
   "metadata": {},
   "source": [
    "#### **numpy.random.random_integers**\n",
    "***"
   ]
  },
  {
   "cell_type": "markdown",
   "id": "b86a3cb6-1dc0-49d6-93c4-6a0e9413827e",
   "metadata": {},
   "source": [
    "`random.random_integers(low, high=None, size=None)`"
   ]
  },
  {
   "cell_type": "markdown",
   "id": "b4aeefeb-96d3-4e8c-a129-1f5fd8a813ec",
   "metadata": {},
   "source": [
    "This function returns random integers of type np.int_ between the low and high parameters provided, inclusive, from the discrete uniform distribution in the closed interval [low, high]. \n",
    "\n",
    "If high is None (the default), then the results outputted are from [1, low]. The np.int_ type translates to the C long integer type and its precision is platform dependent.\n",
    "\n",
    "As per the official documentation, the numpy.random.random_integers function has been **deprecated**. Users are advised to use the randint function instead (see heading above)."
   ]
  },
  {
   "cell_type": "markdown",
   "id": "00bea3d3-a55c-4ba7-a050-309f3aeaacbe",
   "metadata": {},
   "source": [
    "**_Parameters:_** low: int  \n",
    "Lowest (signed) integer to be drawn from the distribution (unless high=None, in which case this parameter is the highest such integer).\n",
    "\n",
    "**_Optional:_** high: int  \n",
    "If provided, the largest (signed) integer to be drawn from the distribution (see above for behavior if high=None).\n",
    "\n",
    "**_Optional:_** size: int or tuple of ints  \n",
    "Output shape. If the given shape is, e.g., (m, n, k), then m * n * k samples are drawn. Default is None, in which case a single value is returned.\n",
    "\n",
    "**_Returns:_** out: int or ndarray of ints  \n",
    "size-shaped array of random integers from the appropriate distribution, or a single such random int if size not provided."
   ]
  },
  {
   "cell_type": "markdown",
   "id": "b4db3bea-924e-4b15-914d-56f51805b41f",
   "metadata": {},
   "source": [
    "_Note: I received a warning message when testing out this function as it is deprecated. Please see the message below and example of the same function using randint_"
   ]
  },
  {
   "cell_type": "code",
   "execution_count": 13,
   "id": "f32c1a73-0390-4c90-8337-3ac27bf665f4",
   "metadata": {},
   "outputs": [
    {
     "name": "stderr",
     "output_type": "stream",
     "text": [
      "<ipython-input-13-071506707e34>:2: DeprecationWarning: This function is deprecated. Please call randint(1, 6 + 1) instead\n",
      "  np.random.random_integers(6)\n"
     ]
    },
    {
     "data": {
      "text/plain": [
       "5"
      ]
     },
     "execution_count": 13,
     "metadata": {},
     "output_type": "execute_result"
    }
   ],
   "source": [
    "# Examples of numpy.random.random_integers\n",
    "np.random.random_integers(6)"
   ]
  },
  {
   "cell_type": "code",
   "execution_count": 14,
   "id": "eb6a45bc-c891-45aa-807c-6d341a89bab7",
   "metadata": {},
   "outputs": [
    {
     "data": {
      "text/plain": [
       "1"
      ]
     },
     "execution_count": 14,
     "metadata": {},
     "output_type": "execute_result"
    }
   ],
   "source": [
    "np.random.randint(1,6+1)"
   ]
  },
  {
   "cell_type": "markdown",
   "id": "cf9f665d-4532-4a03-a83a-352fc42dfb7e",
   "metadata": {},
   "source": [
    "_References_: [4], [7]"
   ]
  },
  {
   "cell_type": "markdown",
   "id": "a24f3db4-1ee8-4d73-9f12-a11cc5cb326a",
   "metadata": {},
   "source": [
    "<br>"
   ]
  },
  {
   "cell_type": "markdown",
   "id": "d3dde096-1739-4ba5-8298-da587c1a387a",
   "metadata": {},
   "source": [
    "#### **numpy.random.random_sample, numpy.random.random, numpy.random.ranf & numpy.random.sample**\n",
    "***"
   ]
  },
  {
   "cell_type": "markdown",
   "id": "80d37c88-c292-4aa3-9f86-4192ab9d4dcf",
   "metadata": {},
   "source": [
    "`random.random_sample(size=None) | random.random(size=None) | random.ranf() | numpy.random.sample(size=None)`"
   ]
  },
  {
   "cell_type": "markdown",
   "id": "7c11f279-9f3d-4470-b032-f56589ee9cde",
   "metadata": {},
   "source": [
    "These functions return random floats in the half-open interval (meaning from 0 to 1, where 1 is excluded)."
   ]
  },
  {
   "cell_type": "markdown",
   "id": "10913f77-3d1b-4581-a9cd-18143b68a4f4",
   "metadata": {},
   "source": [
    "As per the official documentation, **numpy.random.random**, **numpy.random.ranf** and **random.random.sample** are aliases for the **random.random_sample** function, whose results are taken from the continuous uniform distribution over the stated interval, based on the following formula:"
   ]
  },
  {
   "cell_type": "markdown",
   "id": "d7361a0c-1f52-45cd-a422-fc1471e65956",
   "metadata": {
    "tags": []
   },
   "source": [
    "`(b - a) * random_sample() + a`"
   ]
  },
  {
   "cell_type": "markdown",
   "id": "b84f7368-9f93-48e8-bd3f-b60b0519c0b5",
   "metadata": {},
   "source": [
    "A possible use case for this function would be for lotteries or raffles, where a winner or winners needs to be drawn from a list of entries [15]."
   ]
  },
  {
   "cell_type": "markdown",
   "id": "d4c8e2dd-88d2-4748-a70a-11193db6fe0c",
   "metadata": {},
   "source": [
    "**_Parameters:_** size: int or tuple of ints, optional  \n",
    "Output shape. If the given shape is, e.g., (m, n, k), then m * n * k samples are drawn. Default is None, in which case a single value is returned.\n",
    "\n",
    "**_Returns:_** out: float or ndarray of floats  \n",
    "Array of random floats of shape size (unless size=None, in which case a single float is returned)."
   ]
  },
  {
   "cell_type": "code",
   "execution_count": 15,
   "id": "3c4b6e6f-86b9-4a77-9b8b-593d80a7de6f",
   "metadata": {},
   "outputs": [
    {
     "data": {
      "text/plain": [
       "0.7759955118142464"
      ]
     },
     "execution_count": 15,
     "metadata": {},
     "output_type": "execute_result"
    }
   ],
   "source": [
    "# Examples 0f numpy.random.random_sample\n",
    "np.random.random_sample()"
   ]
  },
  {
   "cell_type": "code",
   "execution_count": 16,
   "id": "86dc96d4-13e0-4c61-a79c-95228f663a55",
   "metadata": {},
   "outputs": [
    {
     "data": {
      "text/plain": [
       "array([[-0.06565167, -2.92804477],\n",
       "       [-4.85383443, -1.70734076],\n",
       "       [-4.99018252, -0.87786156]])"
      ]
     },
     "execution_count": 16,
     "metadata": {},
     "output_type": "execute_result"
    }
   ],
   "source": [
    "# Generate a 3 x 2 array of random numbers from [-5, 0)\n",
    "5 * np.random.random_sample((3, 2)) - 5"
   ]
  },
  {
   "cell_type": "markdown",
   "id": "94bb1593-8b5a-4fc5-b757-271a9426e5e7",
   "metadata": {},
   "source": [
    "_References_: [4], [7], [15]"
   ]
  },
  {
   "cell_type": "markdown",
   "id": "b89feeb8-40d8-4cce-bd41-dc78cd0d0015",
   "metadata": {},
   "source": [
    "<br>"
   ]
  },
  {
   "cell_type": "markdown",
   "id": "2789b85d-dda8-420f-85d9-584d709fc189",
   "metadata": {},
   "source": [
    "#### **numpy.random.choice**\n",
    "***"
   ]
  },
  {
   "cell_type": "markdown",
   "id": "bd46fc95-af39-4b47-b04f-ffc2574fbc3b",
   "metadata": {},
   "source": [
    "`random.choice(a, size=None, replace=True, p=None)`"
   ]
  },
  {
   "cell_type": "markdown",
   "id": "1dbfb446-683f-4ef2-ac12-f7956149729b",
   "metadata": {},
   "source": [
    "This function generates a random sample from a given 1-D array. It takes an array as a parameter and randomly returns one of the values in that array, which could make it another option for use cases such as lottery or raffle draws like the sample function discussed above [15]."
   ]
  },
  {
   "cell_type": "markdown",
   "id": "fabec072-5076-46ba-9107-690380529f1a",
   "metadata": {},
   "source": [
    "**_Parameters:_** a: 1-D array-like or int  \n",
    "If an ndarray, a random sample is generated from its elements. If an int, the random sample is generated as if it were np.arange(a)\n",
    "\n",
    "**_Optional:_** size: int or tuple of ints  \n",
    "Output shape. If the given shape is, e.g., (m, n, k), then m * n * k samples are drawn. Default is None, in which case a single value is returned.\n",
    "\n",
    "**_Optional:_** replace: boolean  \n",
    "Whether the sample is with or without replacement. Default is True, meaning that a value of a can be selected multiple times.\n",
    "\n",
    "**_Optional:_** p: 1-D array-like  \n",
    "The probabilities associated with each entry in a. If not given, the sample assumes a uniform distribution over all entries in a.\n",
    "\n",
    "**_Returns:_** samples: single item or ndarray\n",
    "The generated random samples\n",
    "\n",
    "**_Raises:_** ValueError  \n",
    "If a is an int and less than zero, if a or p are not 1-dimensional, if a is an array-like of size 0, if p is not a vector of probabilities, if a and p have different lengths, or if replace=False and the sample size is greater than the population size"
   ]
  },
  {
   "cell_type": "code",
   "execution_count": 17,
   "id": "522f502d-5422-42f5-9b5f-daaceb9d925d",
   "metadata": {},
   "outputs": [
    {
     "data": {
      "text/plain": [
       "array([3, 0, 3])"
      ]
     },
     "execution_count": 17,
     "metadata": {},
     "output_type": "execute_result"
    }
   ],
   "source": [
    "# Examples of numpy.random.choice\n",
    "np.random.choice(5, 3)"
   ]
  },
  {
   "cell_type": "code",
   "execution_count": 18,
   "id": "0162077e-76fe-404a-9bb7-c1984dee2c05",
   "metadata": {},
   "outputs": [
    {
     "data": {
      "text/plain": [
       "array([0, 4, 4, 5, 4])"
      ]
     },
     "execution_count": 18,
     "metadata": {},
     "output_type": "execute_result"
    }
   ],
   "source": [
    "# Generate a non-uniform random sample from np.arange(7) of size 5:\n",
    "np.random.choice(7, 5, p=[0.2, 0, 0.1, 0, 0.3, 0.4, 0]) # probability must be equal to 1"
   ]
  },
  {
   "cell_type": "markdown",
   "id": "4d5f79a4-9c84-4e2d-a607-6a256ee6a765",
   "metadata": {},
   "source": [
    "_References_: [4], [7], [15]"
   ]
  },
  {
   "cell_type": "markdown",
   "id": "c1fdfc3b-fce4-4629-ae30-5badde8ee45a",
   "metadata": {},
   "source": [
    "<br>"
   ]
  },
  {
   "cell_type": "markdown",
   "id": "fe9cb55e-ff55-4023-a006-8a4393d985ff",
   "metadata": {},
   "source": [
    "#### **numpy.random.bytes**\n",
    "***"
   ]
  },
  {
   "cell_type": "markdown",
   "id": "9cef9db1-a088-4b21-bd69-524083b647c2",
   "metadata": {},
   "source": [
    "`random.bytes(length)`"
   ]
  },
  {
   "cell_type": "markdown",
   "id": "b0b29af8-5788-4998-97d5-d23a4e910e43",
   "metadata": {},
   "source": [
    "This function returns a string of random bytes."
   ]
  },
  {
   "cell_type": "markdown",
   "id": "acda4d64-8e25-49d5-8e4c-9abaa8c3f996",
   "metadata": {},
   "source": [
    "**_Parameters:_** length: int  \n",
    "Number of random bytes.\n",
    "\n",
    "**_Returns:_** out: bytes  \n",
    "String of length length."
   ]
  },
  {
   "cell_type": "code",
   "execution_count": 19,
   "id": "a723b500-2ec6-4595-a82e-07ecb3f92475",
   "metadata": {},
   "outputs": [
    {
     "data": {
      "text/plain": [
       "b\"\\xa9a'hD\\xbf\\x05x(*E\\xbd\\x88\""
      ]
     },
     "execution_count": 19,
     "metadata": {},
     "output_type": "execute_result"
    }
   ],
   "source": [
    "# Example of numpy.random.bytes\n",
    "np.random.bytes(13)"
   ]
  },
  {
   "cell_type": "markdown",
   "id": "265a4d76-5e69-4d36-8679-ffa2a48d158a",
   "metadata": {},
   "source": [
    "_References_: [4], [7]"
   ]
  },
  {
   "cell_type": "markdown",
   "id": "77e34997-3383-40b8-82b9-b1b37ab86f13",
   "metadata": {},
   "source": [
    "<br>"
   ]
  },
  {
   "cell_type": "markdown",
   "id": "3cbb3afd-bc58-4b2c-ae11-eef88773091f",
   "metadata": {},
   "source": [
    "#### **b) Permutations**\n",
    "***"
   ]
  },
  {
   "cell_type": "markdown",
   "id": "fb2bdb9b-5b6d-4ee3-9fbb-d3bb3367eda4",
   "metadata": {},
   "source": [
    "There are two permutation functions available in the numpy.random package:"
   ]
  },
  {
   "cell_type": "markdown",
   "id": "2393613b-2a0c-4ed1-881e-6bb5ca7f7f3f",
   "metadata": {},
   "source": [
    "- shuffle() &\n",
    "- permutation()"
   ]
  },
  {
   "cell_type": "markdown",
   "id": "09ecd772-a1de-4da8-8f09-090e6eebe882",
   "metadata": {},
   "source": [
    "These functions allow us to arrange the elements in an array, but have different effects. Lets look at these two functions separately."
   ]
  },
  {
   "cell_type": "markdown",
   "id": "c0aca0ea-2407-4a3d-a71e-d34b47947ebe",
   "metadata": {},
   "source": [
    "<br>"
   ]
  },
  {
   "cell_type": "markdown",
   "id": "6029b469-f910-4843-b694-3e2d20254037",
   "metadata": {},
   "source": [
    "#### **numpy.random.shuffle**\n",
    "***"
   ]
  },
  {
   "cell_type": "markdown",
   "id": "f2c714b5-3a9f-4c5d-afa1-cfea28f8408c",
   "metadata": {},
   "source": [
    "`random.shuffle(x)`"
   ]
  },
  {
   "cell_type": "markdown",
   "id": "9110e4e2-4eac-4880-97dd-81e930f1375c",
   "metadata": {},
   "source": [
    "The shuffle function will modify a sequence in-place by shuffling its contents.\n",
    "\n",
    "It only shuffles the array along the first axis of a multi-dimensional array and although the order of sub-arrays is changed, their contents remain the same."
   ]
  },
  {
   "cell_type": "markdown",
   "id": "c4e2d4f2-b209-4373-a50a-4879bc1d94bd",
   "metadata": {},
   "source": [
    "**_Parameters:_** x: ndarray or MutableSequence  \n",
    "The array, list or mutable sequence to be shuffled.\n",
    "\n",
    "**_Returns:_** None"
   ]
  },
  {
   "cell_type": "code",
   "execution_count": 20,
   "id": "1240e510-77df-4e7d-b1f7-6eeea0e775de",
   "metadata": {},
   "outputs": [
    {
     "data": {
      "text/plain": [
       "[1, 6, [6], 2, 3]"
      ]
     },
     "execution_count": 20,
     "metadata": {},
     "output_type": "execute_result"
    }
   ],
   "source": [
    "# Example of numpy.random.shuffle\n",
    "arr = [1,6,3,[6],2]\n",
    "np.random.shuffle(arr)\n",
    "arr"
   ]
  },
  {
   "cell_type": "markdown",
   "id": "964e1517-0e01-494c-92db-fb0421dde592",
   "metadata": {},
   "source": [
    "_References_: [7], [29]"
   ]
  },
  {
   "cell_type": "markdown",
   "id": "edccc649-a026-40d3-80ef-884888e4f426",
   "metadata": {},
   "source": [
    "<br>"
   ]
  },
  {
   "cell_type": "markdown",
   "id": "6528cb70-68b5-4170-a63e-e131a9058b81",
   "metadata": {},
   "source": [
    "#### **numpy.random.permutation**\n",
    "***"
   ]
  },
  {
   "cell_type": "markdown",
   "id": "bec16028-42cd-4753-8d30-534c32fd7488",
   "metadata": {},
   "source": [
    "`random.permutation(x)`"
   ]
  },
  {
   "cell_type": "markdown",
   "id": "9fb6f07d-f430-4536-942d-4051f3b022ec",
   "metadata": {},
   "source": [
    "The permutation function will randomly permute (or rearrange) a sequence, or return a permuted range.\n",
    "If x is a multi-dimensional array, it will only be shuffled along its first index."
   ]
  },
  {
   "cell_type": "markdown",
   "id": "cccea6f9-0002-44d2-a8c6-e71c2cb7b26a",
   "metadata": {},
   "source": [
    "The difference between the permutation function and the shuffle function discussed above is that permutation() rearranges the array, but does not change or overwrite the original array, while the shuffle function changes the original array [29]."
   ]
  },
  {
   "cell_type": "markdown",
   "id": "7d463937-f6eb-4a31-8f8d-4316788430ae",
   "metadata": {},
   "source": [
    "**_Parameters:_** x: int or array_like\n",
    "If x is an integer, randomly permute np.arange(x). If x is an array, make a copy and shuffle the elements randomly.\n",
    "\n",
    "**_Returns:_** out: ndarray\n",
    "Permuted sequence or array range."
   ]
  },
  {
   "cell_type": "code",
   "execution_count": 21,
   "id": "abb4dd8e-09b3-4517-9944-d5297cf0acd6",
   "metadata": {},
   "outputs": [
    {
     "data": {
      "text/plain": [
       "array([0, 1, 2, 4, 3])"
      ]
     },
     "execution_count": 21,
     "metadata": {},
     "output_type": "execute_result"
    }
   ],
   "source": [
    "# Examples of numpy.random.permutation\n",
    "np.random.permutation(5)"
   ]
  },
  {
   "cell_type": "code",
   "execution_count": 22,
   "id": "a4327756-358b-467c-920c-e1151f312db0",
   "metadata": {},
   "outputs": [
    {
     "data": {
      "text/plain": [
       "array([9, 1, 4, 6, 7])"
      ]
     },
     "execution_count": 22,
     "metadata": {},
     "output_type": "execute_result"
    }
   ],
   "source": [
    "# Permute a given sequence\n",
    "np.random.permutation([9,7,1,4,6])"
   ]
  },
  {
   "cell_type": "markdown",
   "id": "b7f50864-0c46-47de-b09c-4d512d83d2b0",
   "metadata": {},
   "source": [
    "_References_: [7], [29]"
   ]
  },
  {
   "cell_type": "markdown",
   "id": "ff0f0fb6-1e7d-4712-8560-a2f3efd4d42f",
   "metadata": {},
   "source": [
    "<br>"
   ]
  },
  {
   "cell_type": "markdown",
   "id": "0bc5aa28-a1cb-4d7c-9572-2a229ff3d0f4",
   "metadata": {},
   "source": [
    "***"
   ]
  },
  {
   "cell_type": "markdown",
   "id": "7f54f1a6-f5de-4c90-aca5-8076f100cda1",
   "metadata": {},
   "source": [
    "#### Task 3: Explain the use and purpose of at least five “Distributions” functions"
   ]
  },
  {
   "cell_type": "markdown",
   "id": "092b603e-de1d-4f16-a726-06cfc18b94cf",
   "metadata": {},
   "source": [
    "#### **1. Normal Distribution - numpy.random.normal**\n",
    "***"
   ]
  },
  {
   "cell_type": "markdown",
   "id": "b31920ab-2108-427b-bab4-6d0ff1f3239e",
   "metadata": {},
   "source": [
    "![data:image/png;base64,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](data:image/png;base64,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)  \n",
    "_Image Source:_ [sharpsightlabs.com](https://www.google.com/imgres?imgurl=https%3A%2F%2Fvrzkj25a871bpq7t1ugcgmn9-wpengine.netdna-ssl.com%2Fwp-content%2Fuploads%2F2019%2F01%2Fnumpy-random-normal_featured-image.png&imgrefurl=https%3A%2F%2Fwww.sharpsightlabs.com%2Fblog%2Fnumpy-random-normal%2F&tbnid=oPW41ADPhCGdzM&vet=12ahUKEwjcgtP1y6T0AhWTXBUIHSSdBJkQMygBegUIARCaAQ..i&docid=XvHH_9RlymKGCM&w=948&h=650&itg=1&q=numpy%20random%20normal%20distribution&ved=2ahUKEwjcgtP1y6T0AhWTXBUIHSSdBJkQMygBegUIARCaAQ)"
   ]
  },
  {
   "cell_type": "markdown",
   "id": "573ea846-ea0b-451c-8c83-4690ce015917",
   "metadata": {},
   "source": [
    "Over the course of my research for this assignment, I stumbled upon the opinion that you cannot discuss generating random numbers without discussing normal distribution [13]. This type of distribution occurs in many different real world situations, such as in test scores, employees' salaries & heights of different people [23]. In a normal distribution, half of the data will fall to the left of the mean and the other half will fall to the right, creating a bell shaped curve, and for this reason this distribution is also known as the \"bell curve\" [23]."
   ]
  },
  {
   "cell_type": "markdown",
   "id": "a71b48e6-1802-4c2f-8787-ba2799f5e7e8",
   "metadata": {},
   "source": [
    "According to the empirical rule of the normal distribution [6]:\n",
    "- 68% of the data falls within one standard deviation (±1 𝜎) of the mean (𝜇)\n",
    "- 95% of the data falls within two standard deviations (±2 𝜎) of the mean (𝜇)\n",
    "- 99.7% of the data falls within three standard deviations (±3 𝜎) of the mean (𝜇)"
   ]
  },
  {
   "cell_type": "markdown",
   "id": "5a95a21a-d5ce-4559-9f8f-8f2f4925f933",
   "metadata": {},
   "source": [
    "Other properties of the normal distribution include the mean, mode and median are all equal, the curve is symmetric around the mean (μ) and the total area under the curve equates to 1 [23]."
   ]
  },
  {
   "cell_type": "markdown",
   "id": "908a5fb7-5bc9-404e-b49c-4d7052664432",
   "metadata": {},
   "source": [
    "![https://www.statisticshowto.com/wp-content/uploads/2013/02/standard-normal-distribution.jpg](https://www.statisticshowto.com/wp-content/uploads/2013/02/standard-normal-distribution.jpg)  \n",
    "_Image Source:_ [statisticshowto.com](https://www.statisticshowto.com/wp-content/uploads/2013/02/standard-normal-distribution.jpg)"
   ]
  },
  {
   "cell_type": "markdown",
   "id": "034829a1-92dd-4b82-8af2-2a0f5c83cc42",
   "metadata": {},
   "source": [
    "As per the offical NumPy documentation [7], the normal distribution function draws random samples from a normal (Gaussian) distribution using the following syntax and parameters:  \n",
    "`random.normal(loc=0.0, scale=1.0, size=None)`\n",
    "\n",
    "**_Parameter 1:_** loc: float or array_like of floats    \n",
    "Mean (“centre”) of the distribution.\n",
    "\n",
    "**_Parameter 2:_** scale: float or array_like of floats  \n",
    "Standard deviation (spread or “width”) of the distribution. Must be non-negative.\n",
    "\n",
    "**_Optional:_** size: int or tuple of ints  \n",
    "Output shape. If the given shape is, e.g., (m, n, k), then m * n * k samples are drawn. If size is None (default), a single value is returned if loc and scale are both scalars. Otherwise, np.broadcast(loc, scale).size samples are drawn.\n",
    "\n",
    "**_Returns:_** out: ndarray or scalar  \n",
    "Drawn samples from the parameterized normal distribution."
   ]
  },
  {
   "cell_type": "code",
   "execution_count": 23,
   "id": "8ce14561-3a2d-491d-adb7-6f27244b69ff",
   "metadata": {},
   "outputs": [
    {
     "data": {
      "text/plain": [
       "Text(0.5, 1.0, 'Normal Distribution')"
      ]
     },
     "execution_count": 23,
     "metadata": {},
     "output_type": "execute_result"
    },
    {
     "data": {
      "image/png": "[encoded data removed]",
      "text/plain": [
       "<Figure size 432x288 with 1 Axes>"
      ]
     },
     "metadata": {
      "needs_background": "light"
     },
     "output_type": "display_data"
    }
   ],
   "source": [
    "# Example - lets plot a histogram of function x with mean 0 and standard deviation 1\n",
    "x = np.random.normal(loc=0, scale=1, size=(100))\n",
    "plt.hist(x)\n",
    "plt.title(\"Normal Distribution\")"
   ]
  },
  {
   "cell_type": "markdown",
   "id": "d36b95bf-3295-45c2-90c6-c7b462b5b86a",
   "metadata": {},
   "source": [
    "<br>"
   ]
  },
  {
   "cell_type": "markdown",
   "id": "ee1de3e1-3e3a-447c-a771-ef5d8d888765",
   "metadata": {},
   "source": [
    "#### **2. Uniform Distribution - numpy.random.uniform**\n",
    "***"
   ]
  },
  {
   "cell_type": "markdown",
   "id": "16797fa3-5cc2-4e00-a3e0-43e794de566c",
   "metadata": {},
   "source": [
    "![data:image/png;base64,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](data:image/png;base64,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)  \n",
    "_Image Source:_ [Wikipedia.org](data:image/png;base64,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)"
   ]
  },
  {
   "cell_type": "markdown",
   "id": "732f6c73-fd69-4539-b12d-8a364587e24c",
   "metadata": {},
   "source": [
    "A uniform distribution (also known as a rectangular distribution) is a probability distribution that has constant probability [24]. In other words, every event has an equal (uniform) chance of reoccurring [27].\n",
    "\n",
    "The distribution is defined by two parameters - a, being the minimum and b, being the maximum - and has two types - continuous uniform distribution, which is the most common and takes the shape or a rectangle, and discrete uniform distribution, which also resembles a rectangle but has a series of dots representing the number of outcomes instead of a line [24].\n",
    "\n",
    "As per w3schools, the generation of random numbers would be an example of the uniform distribution in practice [31]."
   ]
  },
  {
   "cell_type": "markdown",
   "id": "b75c7137-789c-4fd3-9e5d-0f821f43914f",
   "metadata": {},
   "source": [
    "As per the offical NumPy documentation [7], the numpy.random.uniform draws random samples from a uniform distribution where samples are uniformly (equally) distributed over the half-open interval from low to high, where low is included & high excluded using the following syntax and parameters:  \n",
    "`random.uniform(low=0.0, high=1.0, size=None)`\n",
    "\n",
    "**_Parameter 1:_** low: float or array_like of floats  \n",
    "Lower boundary of the output interval. All values generated will be greater than or equal to low. **The default value is 0.**\n",
    "\n",
    "**_Parameter 2:_** high: float or array_like of floats  \n",
    "Upper boundary of the output interval. All values generated will be less than or equal to high. **The default value is 1.0.**\n",
    "\n",
    "**_Optional:_** size: int or tuple of ints  \n",
    "Output shape. If the given shape is, e.g., (m, n, k), then m * n * k samples are drawn. If size is None (default), a single value is returned if low and high are both scalars. Otherwise, np.broadcast(low, high).size samples are drawn.\n",
    "\n",
    "**_Returns:_** out: darray or scalar  \n",
    "Drawn samples from the parameterized uniform distribution.\n",
    "\n"
   ]
  },
  {
   "cell_type": "code",
   "execution_count": 24,
   "id": "6c9a5e1f-ef79-4951-9cb9-db6df582b40f",
   "metadata": {},
   "outputs": [
    {
     "data": {
      "text/plain": [
       "[Text(0.5, 1.0, 'Uniform Distribution')]"
      ]
     },
     "execution_count": 24,
     "metadata": {},
     "output_type": "execute_result"
    },
    {
     "data": {
      "image/png": "[encoded data removed]",
      "text/plain": [
       "<Figure size 432x288 with 1 Axes>"
      ]
     },
     "metadata": {
      "needs_background": "light"
     },
     "output_type": "display_data"
    }
   ],
   "source": [
    "# Example - lets plot a histogram of function x in Seaborn using the default values & see if we get a rectangular-like shape\n",
    "x = np.random.uniform(size=(1000))\n",
    "#sns.histplot(x)\n",
    "sns.histplot(x,color='r').set(title='Uniform Distribution')"
   ]
  },
  {
   "cell_type": "markdown",
   "id": "af1a7162-6a9d-4a0b-b2ba-c1b250a8f334",
   "metadata": {},
   "source": [
    "<br>"
   ]
  },
  {
   "cell_type": "markdown",
   "id": "afe727df-1ebf-4a9d-b7f3-ddc856fd7c93",
   "metadata": {},
   "source": [
    "#### **3. Pareto Distribution - numpy.random.pareto**\n",
    "***"
   ]
  },
  {
   "cell_type": "markdown",
   "id": "0be9a6ae-de2e-4d71-b33f-50046a8efa91",
   "metadata": {},
   "source": [
    "![data:image/png;base64,iVBORw0KGgoAAAANSUhEUgAAARMAAAC3CAMAAAAGjUrGAAAAnFBMVEX///83mNNN351E3pml7MlO4po2ltRDrscxltIvldJI3psjktEAi84Xj9DV5/Q/3ZfP9eL2+v3a9+lxsd3A2+98tt/h+e0u3JGz79FmrNtbp9mFu+HL4fLc6/Z55bJc4aSL6LtJn9at0OqiyueUwuTa6fXD8tto46qa6sPt+/Ss7s258NXp8vm31ewAhsybx+aE57iS6b9sv84W2ov3OqGQAAAKT0lEQVR4nO2cCZuiuhKGwXDvJQQIsrgAsggNuI16+v//t1ugM9NqAOe0z7CYt2eeduvu5LOoqnwQBYHD4XA4HA6Hw+FwOBwOh8PhcDgcDofD4XA4HE6/WHU9gP4xVfddD6F3OMTqegh9Y6WJmt71IHqGK4ty3PUg+oVNRFEkh66H0StkGTSRcdfD6BPHMkxEEaddD6Q/7DXxgsbr8U8sfNVEXnY9lL6g/wwTCBS/68H0hFj+pYksdj2YfnAg4m/Iuuvh9IKvkoAo067H0wNSfKMJdroeUPfsNfEWjZsGS/lOE9ntekhd49+HCWQUu+tBdUx8Hya8Hq/JgyQQKMeuh9UlU5YkIMo7L3s8zNQEv7ENuXpMsNd6/L42pPuYYK+8rQ1ps7NJlVHe1YaUa8PkbW3IY32YvKsNOa1LsNc0+4712GLX4V9HzxvakHpzmLylDRm3SPKGy55DU4K98HY2JK6vw79FeS8bMm1OsBew1/Uw/yYPhiObt7IhHwxHNu9kQzIMRzZvZEMyDMeaQHmbesw0HGsC5U1syBrDsUaU96jHNYYjm/ewIW8NRxlX3RvGuLpTyXAjylvYkDeGI7HWSYxF4q1TIuJlKped2m0GfgMb0v4aJjgV9lPBhSXwSvjQrOlhT2R3f3ehwfhtSPFrFGhTW1Wntiw46lJw18cfgkbsu3wzfhsyuQkCAgmX+L5bdiwCHEYqaPJQlsZuQ94ZjkRIiaZ/1URNDyq5K0wjtyGd2+kSe7r0BOeLJj/27n6a3B09o7YhP+4WOlXvvoJcctXkhyCuIFCE+0AZsw0Z36UKslrhWEguceK4U90/OMlRnd5pMubdCQ+GY5ljtZ851iGxpU7V9aMmY7YhHwzHm7rjYJmkB42lyXiXPY+GIxESTV35MbRtsWDJUGFisk4ZmozVhmQYjsQWkoPgqdPpcS8QUXZXBKf6UnhcOY/UhmQZjviw36dEjv29DusgnEKskMOK8cpx2pBsw5GQskOT4VslkVw9xLLhtDHakKwrHCE0QIbqSy5vVLcwhhsPLx6jDckwHLFlYS91sQVfSyt1sBXDLQceiuPHS5hI0vUUXg3DcJQt27f2jktWsPSzdcfSpom20qyVk3jO+tGMG109ZhiO+Gh5qa/KxBeFOPFVEh9sVSfE1xLHYmgytt0JrBN/lSb7AxQaT08d3XcsT680IcePVcIwbbWPrqfxUlhXOFaa6OV3/+i7vkbWsa9VmrDjZGTLHptVh3HqpakOnZolxALRNc2397GuVZqw8snIbEiReeIP27YMc4eOTfO1tZ8kmmX5vpUQb7lknvAYkw2Z1Jzlgu6sOoVBRCJiUvUl1UPQntRcdD4aG7LlCsdrz3Y509NyJnk0NqTTcoUj9GxkCYeL5y6x1SzKWGzI2p0GV4iuCsS2LXtt2dqq5WTySE4Lxs2zhGoSC+7BFo9OfPiht2gyjnrceoUjPnorL7Fj0GRvt2kyDhuyYafB9a239KPvlJq4B7VVkzEse9qvcJRF6Nlcv9TEVj9aNRm+DfnMFY7Qw/pyInrL+EiY/estg6/HLTsNrqKI0KnJVaf2xMuHXo/ZOw1KP63y16p/+NKxXTo3UbxYbaVCLLutCpRhnxZkXuEox7Ca8UTZk0VXli0vxl4cexZe4iW0bNgRHWjfYtchlujGrJ8ftA3JvsKRrI6J7314MPVYJivnY31cebbtwFIQ+jssOEuozc4qOX4ckyXzFwzYhnw8d3UhEW1f/Ujj9Bhjov/wbc1OveXR1+wPTV7aieqT43Et2gefrcmQ63HdFY6q7ZaauOv12tN0T7eJndq+VWmCU8tXfQyaxPbhcGBrMlwbsq4Ow4RVX13hJPHcFDTBfqnJklSaEFvWf2piu1OX/SsGe1qwbks11lVNV/eanKalJoT4sp6mBH9o9gqeWe8xaJLasAZShRpNhnpasHangez7nuWXp3Pcg1t2aa5/XDoyTnV37SdHNXUT2XMTP05IUqfrQHcn1PtDhGCZ4GtXUp0axWUngqFzK902XFpt1T2xdjuYLHc9vX9DneH4IoZoQ/7RToN/wwCXPS2G4/cZ3u6ENsPxBQzOhqz/aJOXMTQbsuGjTV7HwGzIVsPxNaJ0Pc0/If0bYTIsG/LJLdXfZ0D1+CnD8RUMx4Zs/WiT1zEYG/LpLdXfZyg25B9sqf4+w7Ahp898tMkLRRmCDfnUR5u8jiHYkHv1v38Xtf9XQ/7zv7/NP11PuQ1j/p+/zTzretItTJQJG6V6ou7Z76AoXU+6mS2tGTgNQzpRaI6UCaUI7r9QFCR1Pe1GaiUx4LCiObwioOZMQnSGnpisMkEQBQpCEGRNEUY3Xc+7gahmpkouzKkQmotPaaYYnyY9bZ/QRDnTgp6iaLsIgknUIIoSdD3xemZ1YaJEG0qFYBPRQEDG3Jwbz2QWZM4Fmplhdj4tJkbT0UbNrqdeS1470TCHTKj80gQZ4ak9UGgWCuHCQBAmW9qoiRJ2PfU6soZhK9Qw5r80kaLZbtEqCloUZnE2S002RtMvB/l2XU++BqXheKCSgGilyXwjZUawQI1v/EXHyCzM3HwiTkC/rifPRmp441EEnctVk/wcLAJIEK1xApl5Iigm2gVBSz6BP1B0PX0Wm8YkKARoctGEwmEUPqXJZJLRHZKUKM+jSdHy8l7W41NzsfyklEIt3kJtUkz61LED7371BS1K2ak008d6bDbWhVP5krzq2RS0PSNltmFpqIAA6NKpgSDlrbJjg7pdpSrQp2zflEqnh58t28KeETY2HMocUBQa0nKy8J9SxuvRSVLybTiRFKjdqIBb2zzcFkqknM4ghKRI0jYITwUtJqfHPzHpWoJ7ds8tYJqFC81oZwamFEQSLItmuZkFsyCTJANlMwo9SJCb+S4ypGJzzh7fA7ToWoQ7mmrO5BITSsX1eynP/SJGyXc0y6B7ySMpUKj5aWRz47TNoW3LTKpEO2luzBeSlO+ybMeIS9q1CLc0VAUkmVkxy5RgES2iYmOckBAWxcTYSLO5eTszOtsE0NEVp91COtHZAto84zQzTpUmaJHDXXrRZMeIk7Lg94imOly+30UEoZ8VhhRkcxSY0fmMqPE5+zRuZqbkizmEhokKCQ4faua01ARmX2lCjYn5S5OAmb/orGshvhA0dbAwk0IKoStZZJkyKxQp2oEmijGfnWd3mhh5Zk5mNIwqTUCGcHZaUGSGuxlCs+0GutndOYu2xpypiZJ3LcRvWtasoIlxLjXZgSYRyqhx1eR0qwk0o9kkyHJ0goiBYw5BbJ3ySCkf3mbFmZ7DAp1DaYcKKoXMv9UfG7LZ8CmPnbKUGrtdNsnmdGZszmdaanJ37FQtSdmfKGWjUnZpCqrSMaIKotXjZeeCLp0ci/7U40VjHS5zrAQ5GO0yyVAEyJifhrQxYXm8uc+x34f2xYZsaU0QvM1VG1p2oahqQy/NKq26txeL0o9lz4mi/kD7seyBytkjin4ECofD4XA4HA6Hw+FwOBwOh8PhcDgcDofD4XA4Y+D/N+Pt0XpL20QAAAAASUVORK5CYII=](data:image/png;base64,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)  \n",
    "_Image Source:_ [towardsdatascience.com](data:image/png;base64,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)"
   ]
  },
  {
   "cell_type": "markdown",
   "id": "31fe4701-393e-4340-89cf-cff99a7fa293",
   "metadata": {},
   "source": [
    "Named after the Italian civil engineer, economist, and sociologist Vilfredo Pareto and originally used to describe the uneven distribution of wealth in society, the Pareto distribution is a power-law probability distribution [3]. At its core is the Pareto Principle or \"80/20 rule\", which states that almost 80% of all effects come from about 20% of the causes [26]. Unlike the normal and uniform distributions previously discussed, the Pareto distribution is skewed, with most of the data sitting in the tails [22].  "
   ]
  },
  {
   "cell_type": "markdown",
   "id": "b9821cec-56a2-4956-b9d9-d749dbf335ac",
   "metadata": {},
   "source": [
    "![data:image/png;base64,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](data:image/png;base64,iVBORw0KGgoAAAANSUhEUgAAARIAAAC4CAMAAAAYGZMtAAAByFBMVEX////k5OQqKioAZBAAAACkpaSlpKWqrKqqqq3y8vL5+fns7Oz29vaurq7W1taYmJjBwcHLy8twcHDS0tJSUlL58vK9U1P3+/d+fn7e3t4mJrNIi0htAADn5+dGRka9vb2Kioo3NzdjY2N7e3sAAKoAcQBbW1shISGoAACysrIuLi4/Pz9LS0vgtbXnxcV0AACPj4/bqqrz4uKyIiIAAKHGcnLH2seiwaLZ5tns8+zt1dU3RERjAAATExPXoKDMgoKzLS3RkZGyst7W1u6UlNLv7/m4QkKvERFemF51pXUAUQDKfn6LtYYdAACqfHykZGSTbGyIQ0N8FxeMVVWkj4/GZ2csK6vHx+jg4PKnp9sREXYAAGwvL4F2dpl/f81GRr1ycsm2ODhOTruLi89kZME3hDdISLkaGrCJm4laWr50knVhiWIifSLZydvHY1mYeLAvAJBqAD20XmhCAIWWupaSicM0FJtmpnCte2iASyQzKwCMnbmtoYmAtYQqhh8ASEsAOQxMcX5vh5oAGVoARDQzUJqjva3A0su51LY6iy7KXFTJf4m6cYmjV4WURoWESJF0OZNlIZB6isQAGQcmAAA1AABHAABdABpnY0n1AAANiElEQVR4nO2di18ixx3Af3gLZndhYQEFJPJUEVTi41S08cXDw9OmTwWTFh/IGRtzvTS2lzbtpenTS5o2SdP23+3MLgom5rwZZpl14/dzAovA/u7r7OzMb2YWgDvuuBEpGo0qFxseEUBWeYZjBmTBZR+b1B6GBj1jACnlyu89PILiixwBcArgUVQRiUlE7bHLX6lOZEkK8ouNE/IYSPYICElbUEabPcgQSJL2o/ihByBm4x1itxGFEX/SCQJABm9m/AC+WMxhj8VUcPcgHWkX7xC7DT5wECntHwRdQXvrdx4BFZe0/fo3Whd04GCWAHD5QAeKIPuCQbcjGFSd8RB6zv6dq2DFmHaXBHCp4EUHihq7+JXbBu4QJDgFZgrc0jVPqt/tZor8ks/dcccdd9wIaWO1N21IGJwJhfT7QazjTgkikUhofbve8ZFJciVvvGFASJyR4s3+TUq7J1QyMzq6akBQvAm5UeMVxBHUxwmBIosEb50YRWSNCowfyiSyAbIXKVEIS4k1leDMYmIQPUAdwIRMeuAcjI6uGxIWT0QBpBTYVIjYRPK6BN74gSFR8cUTjyig2EH0R2wUJ+EfGhKUmSBW8iNDwjATxEp+bEgYZoJYyWuGhGEmiJW8el3myVKQK+kzJA4TQa5k2pA4TAS5Ess1Xr8O+RlnwpA4TASxkp8sGxKHiSBvva4YEgcRigN15tuGJZ1RPLKgKt/6BiJIldh/us1mxx1g8wMIihsSfsS4G+TJwYgLkp44m8FbUiUOB/+ecAR15jNtsz6SIkAqiQpLD5OPJ1bi6rYS0e7S6b04MARZ/4mmMT7wo/+EAw/7jzDZIbGS9AGT/b48Yu81StQEyJDWnlbBMS67Fcc4qFEmOyRXss69Re/wetw9jrYn0pMynifDaDybXMks/+arpP0zCnIlK4uGBMKTaCqlTb6KCUsUiUZHesp6zVc8T80J2jQkoFGStVzz1ekBGMdjN/GYlyL36nAtmqD5yhxvDN/6QyFUYBQb2Swbh6uPf/OVNb6U7+Ih8dAWVgL8m6+MkZa0W6fs1w4gCiWjBkTFFUVILQlOjxdimR47TV0Cq0aEZSIolPRbPPtKocQEzVdDoVCybPHsK4WSiSlDIjENFErM11azuVnOoKNQMm22tpoSU+MM5/5TKDHdWdiHmxbsPu52Kkm7PVcjdzBcM0OjhHtebRz156UEJBNerzfhABCDAsMVIjRKtjk3TJJp3I+XwKmB/z6SnfOBs9bdhknfBReFUxhEPypeo6mhPdfDbpkmjZLu5tWm1/t11pu7lQQRr1F0Xg5tYSLsdkijJLvGbv80+F1icjzdqtBiDohyrku4N0w8Pu3iABcMpj0sK3waJX2WSyJdgUYJzBgRiWm4U4IY9CY0D86kV6RcosS7YcIaQbFp6Ve/qsSJlVR2dipdb5gYjRjUVlig9h/FSovq/aGh+yWYslzGJIr6CBfrccjGcXaHkJK8CTMmneEcj+E7MaGt2qIoJVWY7jciMH5kmsWiB2BMIq1L8veHUF0CD5hHxRNFSPgjkicJbm8wSHHGeRPfrrKPiyPSIAIkdP714X4BsZK3SujW0kM55EoKYLmz8FWIlfwsj27NNm5hc7L8MMLX239eQ7eLmwxD6Bh5fFxw3Pyyl4VYySt7YLa+cAzViwLJCvAXQz4xawffrTILgAqPvT1uvOpZYHd9HnIl+1V0d8A1SY86IgL4weHGaPN/B+PsPp1cyS6uX2d5zvR0o4oj45ZRKwKjXXrEO8ju48nzJYU6ulvmOdNTQEELV0aB075vey0FxEpekXD92sWMdHVoQOd4V38CZ+hFvKjCn4nH45mYvhKHXTEhVwLHwDkjnVIhmFBbpxg1Ewsm3cw+nkLJEa5feeYaJUdacrct0XLhJRfsGmsUSrT6dZVZBKaDQkkBt1+5nnKMhUIJDEC3B0G7Co2SPdROs1qusQ0aJfUKquJM1cvpGH1IWXG50nRKKkWw1vCW0+7V7r2TDpoJ40hJ6RA96LfQ8JbLm9Tux7VbGiUwBBZLrA3qpUTwx2MU63GwEtwZ5j3JhCk2XQnqKUWIr6umK8mj3kaflcZydCXOEMXQVlNJ6QSsVb9iJYoLBMVHswIUK9F6flYauBDRSdimghwMUkym0JXsF0xWv3KdmKUpyRdNVb+G/JMMP41OSWnPVFl6KcEuW0KrBHYkrvVrKHo1PeI1gRLczeGXH4j5ZAFGQPVgcC7JDEpwzmSC10p7VwygxxWCdC/CjntsZlCC2/TcJt4IqEm1dEWCKZTgBGx3KpOFRlinca4/gTP0El5Z4R1B+LENUyjBp+EudYYDF1w8ISjg9g7KbYtPzHDG0bKNvCY22mJpm7d9mZZv0h1i+PGEr79Ucljiv7zAGKiV4N6wtWbxXUCtpLRjvYnjOtRK4FGJX8vEUOiVoHOOibo5DKFXgpMmq7yXxxpBB0qOCubKmXRCcxqChHuTHSgp7MPiLKuY+BLS09HRzBjFOM7bb7ceH1slAete0i+VmtJWFhAqCQ8Phy83inmrTCCQ9Qz9CEAyBCEnSQ15fm94+N7cxRZqmmStMVquD1o0lyiFRJLpO1eVwEnVIg3Y5tBWRJsaSXjgDA8PN1pbhSOLHDlYiaxAXMTVCaGSwC/eedq2uVPKmmo2PS2DbgDVDbZ4RqGZClzOtbbydYscOe0QLytwBU7bNo9h0yqttUuIlfTC1nxrM1+0XtKEQgkMB1rbQzBjtX4OjZK5cms7X7dchoBGCZRbTRM4LlmtgqVS0n7oVGorFqtg6ZTMtTo6sPeuxRJJdErazzrVvcfWSsFSKoHTVoOt/ktrnYdplQTaqpOBAwvN0aJXArlWI7bw5DGzeEwAtRI4b1WxtfesVJvQK4H5Vovt+FeMwjEDHSiBs42LR9Unlkib6HSiBLYuneTfZxOOGehICZxdHju1XzMJxwx0pgTOL887v6mwCIcPoXhc8+AWBPJE49eVQG54QX8w/aTAIDg+pCRRu2aBX8tzdKoEFoab3eLlJ9VOQ+OEnEA28EDFmGOSYg79N5QAhJuVbP/9W+oklGxex6HH41kiX6J0jRKY1zs80oP7t/PYwUMWI82B8iT5VwZdpwQWTs/w3eLMTr6z4DihjwWDjErLCPmqrWuVoIIyjAtKtv+o3ml4POiNxNMQTYDXj5dsMFICgXIYnXqWZ4uPOg6QA6LYds9KCTodNzYCsLZZGbqdFUoLdkoA5k43AmuzsFfrKCLusFSCpDSeftAP+dtdUNgqQYfP04e/laSTkxJ1RNxhrQRVtPP3NnKFgdqtHQRkrwTxwe+en304UKSJxwQYogQmZn7/h2cfvVW/lS18Y5RA3/Z2X+6s8cePGX7XRLcwSAlq3a9uShA437hXns/d/GozYZgS1LyfmcXjO4U/ffQwvHW+QLgjfhioBElZ79eG0Cu1N//8l9PnW+e5wE1vMQGGKgGY3hxd0cZ4qruHA3/9+J3ws/DW/Jy5S4zBShDZ7Zk1fUijUDzZOfryw79tlRsNbCZnTjXGK0FkZx/0T+kDgqV8/fD4pJ4v5Obmt8rPn4XLW/Pn5nLTFSWI6antB/1rWX08vVTZre0MHNaKlaq4kDuf39poPGuEyxtn83Oo6AQ4VzjdUoLpy671z6yvTCw2xRTyxf1HOwMntWK+Ui0FArm5ufmzrXI43Dg9DW9sbJ3NnyNDCwtdVtRNJRp9i1Ob/aMH22tT2ebYeqla2S3uH+0c75wc1Yq7lUIBNXoDC7nc3Pk8KkDlcuP0GS5E5TK2hDTN5XI5A0V1XYmONJ2dWJtdPzg46N9EcrLT2pfySaVCJb9brx092sOc7Nfqxd18pVKolkqyvKBZOj9HJWkLmQo3njeahLEtxJluDKNZwyUsQHwcclLSom8xO7G8NrvdfzAzOrO+vT27sjw1MZFdxLxbqCBFu7vF2v7R0cnh3s7AwN6jk6P9/Rp2tbubzyNfqFQVqj717xjN2PzZGZL2h42nT8sYpA7xDPP8eSOMS1v56cYLIiK9vvArLL+595v09U0vZrMTE1PLayubs9uPP8EFaf2TTx5jtmdnN1dWPv30H4jPPvsn4l+Izz//4ov3NZ48eXIfMTQ0dDwwsLO39+jwBHGE2d/HHmv1ev1LnRfE8PbDh/dIePjvTI9xZDBxzPfayfSkvo8R0M9XX331H43/XvK6zquY11q8+jWaL3v9f4j3XqCE4cXKrQK7bxO1DKQXuRBJ84ekX6zAfwfKDb//RgCkV/ImLYYyqRL6HXi8kLya4nLaEIqNjFCI8A3EOyB8Pd0O9CrU6/AS+rQ+wq0dRjCKZCzJOwSTgeqSERbpcsLaTFQJ62Mf8YWeyN4QUtWLU4oIl5ek6IResst1qUvuJaKzZDyYILwqp91P9PKxYJDlFccAYnGy7/mK2EAl+S/iq2akiPYwGEkQvZ7s018GlUwxKpcxso6ij/CPGBdHSF4uCZElxsNthEpA9AfJ3qBMEv3VgwoQKXFGAZbIIroJQiWhDFm/MuTTvqz15UmNxQUS6fjaJH6WX3yITlxkSsbSqofkHGVLOW0Zsogkouo1lJJCY2Q7uPEjyQ5EdywWJHpH1J8gzFdIdqKXe/xedt96eMd3hP8DEUfBl0hI8YwAAAAASUVORK5CYII=)  \n",
    "_Image Source:_ [en.wikipedia.org](data:image/png;base64,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)  \n"
   ]
  },
  {
   "cell_type": "markdown",
   "id": "ba95a618-0260-4dee-b1ff-2c47c0eff37b",
   "metadata": {},
   "source": [
    "In my research for this assignment, I read about a real-world example of this rule taking shape back in the early noughties, when Microsoft observed that 80% of the errors and crashes in their software were caused by 20% of all bugs detected [26]. In other words, if they could address the 20% causes (bugs in this scenario), the 80% effects (crashes) could be avoided [26]."
   ]
  },
  {
   "cell_type": "markdown",
   "id": "87ba62f8-45d9-4e65-a456-1838942dda2e",
   "metadata": {},
   "source": [
    "As per NumPy.org, numpy.random.pareto draws from a Pareto II or Lomax distribution, which is a shifted Pareto distribution, but the classical Pareto distribution can be obtained from the same by adding 1 and multiplying by the scale parameter m [7].  "
   ]
  },
  {
   "cell_type": "markdown",
   "id": "c44a3b22-8a20-499e-93cd-1b0917ca5a50",
   "metadata": {},
   "source": [
    "The syntax & parameters for the Pareto distribution function in numpy.random are as follows:  \n",
    "`random.pareto(a, size=None)`\n",
    "\n",
    "**_Parameter:_** a: float or array_like of floats  \n",
    "Shape of the distribution. Must be positive.\n",
    "\n",
    "**_Optional:_** size: int or tuple of ints  \n",
    "Output shape. If the given shape is, e.g., (m, n, k), then m * n * k samples are drawn. If size is None (default), a single value is returned if a is a scalar. Otherwise, np.array(a).size samples are drawn.\n",
    "\n",
    "**_Returns:_** out: ndarray or scalar  \n",
    "Drawn samples from the parameterized Pareto distribution."
   ]
  },
  {
   "cell_type": "code",
   "execution_count": 25,
   "id": "f84a9d1f-ee24-4d3f-9a9e-a9c0d78dab56",
   "metadata": {},
   "outputs": [
    {
     "data": {
      "image/png": "[encoded data removed]",
      "text/plain": [
       "<Figure size 432x288 with 1 Axes>"
      ]
     },
     "metadata": {
      "needs_background": "light"
     },
     "output_type": "display_data"
    }
   ],
   "source": [
    "# Example of a plot showing the 80/20 rule on distribution of wealth as per Pareto's original theory\n",
    "a = np.random.pareto(a=50,size=1000)\n",
    "plt.hist(a)\n",
    "plt.xlabel(\"Population\")\n",
    "plt.ylabel(\"Wealth\")\n",
    "plt.title(\"Distribution of Wealth\")\n",
    "plt.show()"
   ]
  },
  {
   "cell_type": "markdown",
   "id": "dd6d8fc8-0271-41a5-ab99-b851cb96a953",
   "metadata": {},
   "source": [
    "<br>"
   ]
  },
  {
   "cell_type": "markdown",
   "id": "59062742-75fe-4d66-b653-e1ec22f3ff61",
   "metadata": {},
   "source": [
    "#### **4. Binomial Distribution - numpy.random.binomial**\n",
    "***"
   ]
  },
  {
   "cell_type": "markdown",
   "id": "838080c2-0d1b-44ae-890a-5d3f974d3c9f",
   "metadata": {},
   "source": [
    "![https://encrypted-tbn0.gstatic.com/images?q=tbn:ANd9GcRV3g_hjkVpk9DojKwQfhBiRsdr7pjhCReBUw&usqp=CAU](https://encrypted-tbn0.gstatic.com/images?q=tbn:ANd9GcRV3g_hjkVpk9DojKwQfhBiRsdr7pjhCReBUw&usqp=CAU)  \n",
    "_Image Source:_ [programsbuzz.com](https://encrypted-tbn0.gstatic.com/images?q=tbn:ANd9GcRV3g_hjkVpk9DojKwQfhBiRsdr7pjhCReBUw&usqp=CAU)"
   ]
  },
  {
   "cell_type": "markdown",
   "id": "ae959317-f1a8-4143-9f91-45d150825b96",
   "metadata": {},
   "source": [
    "A binomial distribution will compute probabilities for any binomial process (i.e. a process where there are only two possible outcomes, such as flipping a coin) [18]. Often called a Bernoulli process after the first person to fully develop its properties, the two outcomes of a binomial process are success and failure, and as the same suggests, it uses the binary system of 1s and 0s [18]. \n",
    "A binomial distribution must have a fixed number of trials, denoted by the letter n, with each trial having the same probability of success and being mutually exclusive or independent of each other [18].  \n",
    "A more technical explanation of numpy.random.binomial is provided in the official documentation which states that the function draws samples from a binomial distribution with specified parameters, n trials and p probability of success where n is greater than or equal to 0 and p is in the interval from 0 to 1 [7]. The binomial distribution has the same mean and standard deviation as the normal distribution, and as per the Central Limit Theorem, as the number of trials increases, the binomial distribution gets closer to a normal distribution [1]."
   ]
  },
  {
   "cell_type": "markdown",
   "id": "e82aa112-f885-4a46-86f4-382439bc171c",
   "metadata": {},
   "source": [
    "The syntax & parameters for the binomial distribution function are as follows:  \n",
    "`random.binomial(n, p, size=None)`\n",
    "\n",
    "**_Parameter 1:_** n: int or array_like of ints  \n",
    "Parameter of the distribution, >= 0. Floats are also accepted, but they will be truncated to integers.\n",
    "\n",
    "**_Parameter 2:_** p: float or array_like of floats  \n",
    "Parameter of the distribution, >= 0 and <=1.\n",
    "\n",
    "**_Optional:_** size: int or tuple of ints  \n",
    "Output shape. If the given shape is, e.g., (m, n, k), then m * n * k samples are drawn. If size is None (default), a single value is returned if n and p are both scalars. Otherwise, np.broadcast(n, p).size samples are drawn.\n",
    "\n",
    "**_Returns:_** out: ndarray or scalar  \n",
    "Drawn samples from the parameterized binomial distribution, where each sample is equal to the number of successes over the n trials."
   ]
  },
  {
   "cell_type": "code",
   "execution_count": 26,
   "id": "10681d84-4e22-45a5-a275-a5f8ef9c3402",
   "metadata": {},
   "outputs": [
    {
     "data": {
      "text/plain": [
       "Text(0.5, 1.0, 'Binomial Distribution')"
      ]
     },
     "execution_count": 26,
     "metadata": {},
     "output_type": "execute_result"
    },
    {
     "data": {
      "image/png": "[encoded data removed]",
      "text/plain": [
       "<Figure size 432x288 with 1 Axes>"
      ]
     },
     "metadata": {
      "needs_background": "light"
     },
     "output_type": "display_data"
    }
   ],
   "source": [
    "# Example - lets plot the example of flipping a coin 10 times, tested 50 times\n",
    "n, p = 10, 0.5 # probability in a coin toss is always 0.5\n",
    "luck = np.random.binomial(n,p,size=50)\n",
    "plt.hist(luck,edgecolor='black')\n",
    "plt.title(\"Binomial Distribution\")"
   ]
  },
  {
   "cell_type": "code",
   "execution_count": 27,
   "id": "4997a94a-b6bf-4aae-8850-383eaffe5ad2",
   "metadata": {},
   "outputs": [
    {
     "data": {
      "text/plain": [
       "Text(0.5, 1.0, 'Binomial Distribution with Size=150')"
      ]
     },
     "execution_count": 27,
     "metadata": {},
     "output_type": "execute_result"
    },
    {
     "data": {
      "image/png": "[encoded data removed]",
      "text/plain": [
       "<Figure size 432x288 with 1 Axes>"
      ]
     },
     "metadata": {
      "needs_background": "light"
     },
     "output_type": "display_data"
    }
   ],
   "source": [
    "# Notice that the more the size increases, the more it resembles the normal distribution plot\n",
    "n, p = 10, 0.5\n",
    "bigsample = np.random.binomial(n,p,size=150)\n",
    "plt.hist(bigsample,edgecolor='black')\n",
    "plt.title(\"Binomial Distribution with Size=150\")"
   ]
  },
  {
   "cell_type": "code",
   "execution_count": 28,
   "id": "1c8c4b95-9d00-4004-bd47-c17c117288f0",
   "metadata": {
    "tags": []
   },
   "outputs": [
    {
     "data": {
      "text/plain": [
       "Text(0.5, 1.0, 'Binomial Distribution with Size=10000')"
      ]
     },
     "execution_count": 28,
     "metadata": {},
     "output_type": "execute_result"
    },
    {
     "data": {
      "image/png": "[encoded data removed]",
      "text/plain": [
       "<Figure size 432x288 with 1 Axes>"
      ]
     },
     "metadata": {
      "needs_background": "light"
     },
     "output_type": "display_data"
    }
   ],
   "source": [
    "# Here it looks almost exactly the same\n",
    "n, p = 10, 0.5\n",
    "biggersample = np.random.binomial(n,p,size=10000)\n",
    "plt.hist(biggersample,edgecolor='black')\n",
    "plt.title(\"Binomial Distribution with Size=10000\")"
   ]
  },
  {
   "cell_type": "markdown",
   "id": "81abf6b9-1e6e-4719-9dd5-2727229c7197",
   "metadata": {},
   "source": []
  },
  {
   "cell_type": "markdown",
   "id": "0372c922-1535-401c-a584-25971e8d9dd2",
   "metadata": {},
   "source": [
    "<br>"
   ]
  },
  {
   "cell_type": "markdown",
   "id": "64a8ba6e-f6cb-439e-82ca-493d8f721021",
   "metadata": {},
   "source": [
    "#### **5. Multinomial Distribution - numpy.random.multinomial**\n",
    "***"
   ]
  },
  {
   "cell_type": "markdown",
   "id": "de5d24c5-cfd2-4934-8bc1-59877da1faa4",
   "metadata": {},
   "source": [
    "![data:image/png;base64,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](data:image/png;base64,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)  \n",
    "_Image Source:_ [researchgate.net](data:image/png;base64,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)"
   ]
  },
  {
   "cell_type": "markdown",
   "id": "f28c716d-db1d-4151-9353-d273468db84b",
   "metadata": {},
   "source": [
    "Having looked at binomial distributions, it makes sense to talk about multinomial distributions next.  \n",
    "While a binomial distribution can only have 1 of 2 outcomes (success or failure), a multinomial distribution has two or more possible outcomes [11]. It is quite similar in nature to a binomial distribution as it must also have a fixed number of trials, with each trial having a discrete number of outcomes (e.g. when rolling a set of dice, the sum of the outcome can only be from 2-12), the probability of each outcome occuring must be the same, and each trial must be mutually exclusive of each other [11]. The official NumPy documentation describes it as a multivariate generalization of the binomial distribution [7]."
   ]
  },
  {
   "cell_type": "markdown",
   "id": "293cafdd-bd28-4fb5-bd6c-2e405b4025eb",
   "metadata": {},
   "source": [
    "The syntax & parameters for the multinomial distribution function in numpy.random are as follows:  \n",
    "`random.multinomial(n, pvals, size=None)`\n",
    "\n",
    "**_Parameter 1:_** n: int  \n",
    "Number of experiments.\n",
    "\n",
    "**_Parameter 2:_** pvals: sequence of floats, length p  \n",
    "Probabilities of each of the p different outcomes. These must sum to 1 (however, the last element is always assumed to account for the remaining probability, as long as sum(pvals[:-1]) <= 1).\n",
    "\n",
    "**_Optional:_** size: int or tuple of ints    \n",
    "Output shape. If the given shape is, e.g., (m, n, k), then m * n * k samples are drawn. Default is None, in which case a single value is returned.\n",
    "\n",
    "**_Returns:_** out: ndarray  \n",
    "The drawn samples, of shape size, if that was provided. If not, the shape is (N,).  \n",
    "In other words, each entry out[i,j,...,:] is an N-dimensional value drawn from the distribution."
   ]
  },
  {
   "cell_type": "code",
   "execution_count": 29,
   "id": "6b57dd95-e1e9-4078-9c4a-e2b7fad5e079",
   "metadata": {},
   "outputs": [
    {
     "data": {
      "text/plain": [
       "array([1, 0, 0, 2, 2, 1])"
      ]
     },
     "execution_count": 29,
     "metadata": {},
     "output_type": "execute_result"
    }
   ],
   "source": [
    "# Example - lets simulate the example of rolling a dice 6 times where the probabilty of each outcome is 1/6\n",
    "np.random.multinomial(n=6,pvals=[1/6]*6)"
   ]
  },
  {
   "cell_type": "code",
   "execution_count": 30,
   "id": "8eb47e00-6525-44eb-a703-7b4e82a0e3a8",
   "metadata": {},
   "outputs": [
    {
     "data": {
      "text/plain": [
       "Text(0.5, 1.0, 'Multinomial Distribution')"
      ]
     },
     "execution_count": 30,
     "metadata": {},
     "output_type": "execute_result"
    },
    {
     "data": {
      "image/png": "[encoded data removed]",
      "text/plain": [
       "<Figure size 432x288 with 1 Axes>"
      ]
     },
     "metadata": {
      "needs_background": "light"
     },
     "output_type": "display_data"
    }
   ],
   "source": [
    "# Now lets repeat this trial 3 times and plot the results\n",
    "test = np.random.multinomial(n=6,pvals=[1/6]*6,size=3)\n",
    "plt.hist(test,edgecolor='black')\n",
    "plt.ylabel(\"count\")\n",
    "plt.title(\"Multinomial Distribution\")"
   ]
  },
  {
   "cell_type": "markdown",
   "id": "1f452ed3-2f84-4e5f-9927-156b58723d7c",
   "metadata": {},
   "source": [
    "<br>"
   ]
  },
  {
   "cell_type": "markdown",
   "id": "95380b50-885c-47ee-a7da-2999c4b28590",
   "metadata": {},
   "source": [
    "***"
   ]
  },
  {
   "cell_type": "markdown",
   "id": "ae32d217-e1e4-4fa6-9256-95bfa1411a13",
   "metadata": {},
   "source": [
    "#### Task 4: Explain the use of seeds in generating pseudo-random numbers"
   ]
  },
  {
   "cell_type": "markdown",
   "id": "ee068390-c58e-4972-90ac-365d93615252",
   "metadata": {},
   "source": [
    "_What are pseudo-random numbers?_  \n",
    "It seems strange to have come so far in this assignment without providing a definition. A psuedo-random number is a computer generated number [21]. Although they appear random, they are actually predetermined as they are generated by computers which take an input from a user [5]. By using algorithms known as pseudo-random number generators, we can generate pseudo-random numbers with no discernible pattern that approximate the properties of random numbers [5]. \n",
    "\n",
    "This is what the syntax looks like [7]:  \n",
    "`np.random.seed()`  \n",
    "\n",
    "_What does a seed do?_  \n",
    "The seed is essentially the starting point when generating pseudo-random numbers. The numpy.random.seed function provides the starting input for the algorithm [21]. Using a seed for a pseudo-random number generator makes your code repeatable as the inputted seed is saved [5]. This allows for testing, so the NumPy random seed function is useful when we need to generate pseudo-random numbers that can be repeated [21].  Providing the same seed will give you the same output, and changing the seed will give you a different output [21]."
   ]
  },
  {
   "cell_type": "code",
   "execution_count": 31,
   "id": "ad5ae2b5-9a5a-4425-ba98-3ddebdb575a9",
   "metadata": {},
   "outputs": [
    {
     "data": {
      "text/plain": [
       "array([4, 7, 4, 8, 1])"
      ]
     },
     "execution_count": 31,
     "metadata": {},
     "output_type": "execute_result"
    }
   ],
   "source": [
    "# Example - lets generate some random numbers without setting a seed\n",
    "np.random.randint(1,10,5)"
   ]
  },
  {
   "cell_type": "code",
   "execution_count": 32,
   "id": "2e5d4b49-fa87-4366-b90e-3c7cb43e084a",
   "metadata": {},
   "outputs": [
    {
     "data": {
      "text/plain": [
       "array([1, 9, 4, 5, 9])"
      ]
     },
     "execution_count": 32,
     "metadata": {},
     "output_type": "execute_result"
    }
   ],
   "source": [
    "# Now lets run the same code again - notice the results are different\n",
    "np.random.randint(1,10,5)"
   ]
  },
  {
   "cell_type": "code",
   "execution_count": 33,
   "id": "7ba1881f-bd87-40f2-ae0e-f71843d10783",
   "metadata": {},
   "outputs": [
    {
     "data": {
      "text/plain": [
       "array([6, 1, 4, 4, 8])"
      ]
     },
     "execution_count": 33,
     "metadata": {},
     "output_type": "execute_result"
    }
   ],
   "source": [
    "# Look what happens when I set the seed to 0 and run the same code again twice\n",
    "np.random.seed(0)\n",
    "np.random.randint(1,10,5)"
   ]
  },
  {
   "cell_type": "code",
   "execution_count": 34,
   "id": "831adb3b-2eff-4253-b317-ed0160c8abf0",
   "metadata": {},
   "outputs": [
    {
     "data": {
      "text/plain": [
       "array([6, 1, 4, 4, 8])"
      ]
     },
     "execution_count": 34,
     "metadata": {},
     "output_type": "execute_result"
    }
   ],
   "source": [
    "# And again with seed(0)\n",
    "np.random.seed(0)\n",
    "np.random.randint(1,10,5)"
   ]
  },
  {
   "cell_type": "markdown",
   "id": "a63221cb-f60b-40dc-94be-58c017347e67",
   "metadata": {},
   "source": [
    "<br>"
   ]
  },
  {
   "cell_type": "markdown",
   "id": "e476d456-784e-44dc-a635-88bf1f338941",
   "metadata": {},
   "source": [
    "If you choose not to set a seed with numpy.random.seed, NumPy will set one for you based on the current system’s time [5], but this will render your code unrepeatable and produce different outputs each time it is run [21]. If you want to produce different random numbers every time your code is executed, time would be a good choice as the seed value would change every time it is run resulting in different random number results [5]."
   ]
  },
  {
   "cell_type": "code",
   "execution_count": 35,
   "id": "96962ed3-0903-4d0a-89e8-bf5988c65e10",
   "metadata": {},
   "outputs": [
    {
     "data": {
      "text/plain": [
       "array([3, 2, 6, 8, 2])"
      ]
     },
     "execution_count": 35,
     "metadata": {},
     "output_type": "execute_result"
    }
   ],
   "source": [
    "# Example - lets set the seed using the time module and run the same code twice in quick succession\n",
    "np.random.seed(int(time.time())) # Code copied from https://likegeeks.com/numpy-random-seed/\n",
    "np.random.randint(low = 1, high = 10, size = 5)"
   ]
  },
  {
   "cell_type": "code",
   "execution_count": 36,
   "id": "608d15f8-f0d9-4272-a68b-cf06d64e3683",
   "metadata": {},
   "outputs": [
    {
     "data": {
      "text/plain": [
       "array([3, 2, 6, 8, 2])"
      ]
     },
     "execution_count": 36,
     "metadata": {},
     "output_type": "execute_result"
    }
   ],
   "source": [
    "# Round 2 (roughly 5 seconds later)\n",
    "np.random.seed(int(time.time()))\n",
    "np.random.randint(low = 1, high = 10, size = 5)"
   ]
  },
  {
   "cell_type": "markdown",
   "id": "f364518e-4b66-4543-9ae3-501cab803e41",
   "metadata": {},
   "source": [
    "<br>"
   ]
  },
  {
   "cell_type": "markdown",
   "id": "38dd66b8-6f6e-4f11-9dce-10a9fc2518c2",
   "metadata": {},
   "source": [
    "To summarise, the ability to generate random numbers is useful in many different fields such as in gaming & cryptography, and the numpy.random package allows you to generate psuedo-random numbers using different functions and distributions. The seed is the starting input your computer uses to generate a pseudo-random number. Setting a seed makes your code and results reproducable, but if you choose not to specify a seed, NumPy will do this for you using your computer's system time."
   ]
  },
  {
   "cell_type": "markdown",
   "id": "e20890e5-daa2-44e4-b410-33ae8663613c",
   "metadata": {},
   "source": [
    "<br>"
   ]
  },
  {
   "cell_type": "markdown",
   "id": "7602a7cf-a420-4658-b044-bc2e2a36c25a",
   "metadata": {},
   "source": [
    "***"
   ]
  },
  {
   "cell_type": "markdown",
   "id": "a229ff26-c58f-46d1-9e68-61cc31673215",
   "metadata": {},
   "source": [
    "#### References\n",
    "\n",
    "1. http://digitalfirst.bfwpub.com/stats_applet/generic_stats_applet_2_cltbinom.html  \n",
    "2. https://docs.python.org/3/library/random.html  \n",
    "3. https://en.wikipedia.org/wiki/Pareto_distribution  \n",
    "4. https://het.as.utexas.edu/HET/Software/Numpy/reference/routines.random.html   \n",
    "5. https://likegeeks.com/numpy-random-seed/   \n",
    "6. https://mcckc.edu/tutoring/docs/br/math/prob_stats/The_Normal_Distribution_and_The_Empirical_Rule.pdf  \n",
    "7. https://numpy.org/  \n",
    "8. https://pythonguides.com/python-numpy-random/  \n",
    "9. https://realpython.com/python-random/  \n",
    "10. https://realpython.com/numpy-tutorial/  \n",
    "11. https://stattrek.com/probability-distributions/multinomial.aspx  \n",
    "12. https://towardsdatascience.com/a-cheat-sheet-on-generating-random-numbers-in-numpy-5fe95ec2286  \n",
    "13. https://towardsdatascience.com/random-numbers-in-numpy-89172d6eac16  \n",
    "14. https://towardsdatascience.com/random-seed-numpy-786cf7876a5f  \n",
    "15. https://towardsdatascience.com/statistics-in-python-generating-random-numbers-in-python-numpy-and-sklearn-60e16b2210ae  \n",
    "16. https://web.physics.utah.edu/~detar/lessons/python/random/node2.html  \n",
    "17. https://www.angela1c.com/projects/numpy-random-files/task1/  \n",
    "18. https://www.programsbuzz.com/article/introduction-binomial-distribution  \n",
    "19. https://www.datacamp.com/community/tutorials/numpy-random  \n",
    "20. https://www.javatpoint.com/numpy-random  \n",
    "21. https://www.sharpsightlabs.com/blog/numpy-random-seed/  \n",
    "22. https://www.statisticshowto.com/pareto-distribution/  \n",
    "23. https://www.statisticshowto.com/probability-and-statistics/normal-distributions/  \n",
    "24. https://www.statisticshowto.com/probability-and-statistics/statistics-definitions/uniform-distribution/  \n",
    "25. https://www.studytonight.com/post/creating-random-valuedarrays-in-numpy  \n",
    "26. https://www.sciencedirect.com/topics/computer-science/pareto-principle  \n",
    "27. https://www.ucd.ie/msc/t4media/Uniform%20Distribution.pdf  \n",
    "28. https://www.w3schools.com/python/numpy/numpy_random.asp  \n",
    "29. https://www.w3schools.com/python/numpy/numpy_random_permutation.asp  \n",
    "30. https://www.w3schools.com/python/ref_random_seed.asp  \n",
    "31. https://www.w3schools.com/python/numpy/numpy_random_uniform.asp  \n",
    "32. https://www.pythonpool.com/numpy-random-permutation/  "
   ]
  },
  {
   "cell_type": "markdown",
   "id": "c35f3aab-b960-4cd1-aa91-dd2184a54309",
   "metadata": {},
   "source": [
    "<br>"
   ]
  },
  {
   "cell_type": "markdown",
   "id": "7326cab8-646a-4699-ba33-d603d17470b9",
   "metadata": {},
   "source": [
    "## End\n",
    "***"
   ]
  }
 ],
 "metadata": {
  "kernelspec": {
   "display_name": "Python 3",
   "language": "python",
   "name": "python3"
  },
  "language_info": {
   "codemirror_mode": {
    "name": "ipython",
    "version": 3
   },
   "file_extension": ".py",
   "mimetype": "text/x-python",
   "name": "python",
   "nbconvert_exporter": "python",
   "pygments_lexer": "ipython3",
   "version": "3.8.8"
  }
 },
 "nbformat": 4,
 "nbformat_minor": 5
}
